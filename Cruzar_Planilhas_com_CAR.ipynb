{
  "cells": [
    {
      "cell_type": "markdown",
      "metadata": {
        "id": "view-in-github",
        "colab_type": "text"
      },
      "source": [
        "<a href=\"https://colab.research.google.com/github/MarceloMouraF/interesting_codes/blob/main/Cruzar_Planilhas_com_CAR.ipynb\" target=\"_parent\"><img src=\"https://colab.research.google.com/assets/colab-badge.svg\" alt=\"Open In Colab\"/></a>"
      ]
    },
    {
      "cell_type": "code",
      "execution_count": 1,
      "metadata": {
        "id": "l9PYCLudhGq9"
      },
      "outputs": [],
      "source": [
        "import pandas as pd\n",
        "import geopandas as gpd"
      ]
    },
    {
      "cell_type": "code",
      "source": [
        "# Montar o acesso ao nosso Google drive, assim podemos salvar e acessar dados diretamente de lá\n",
        "from google.colab import drive\n",
        "\n",
        "drive.mount('/content/drive', force_remount=True) # force é para caso seja rodado de novo ele não dê erro\n",
        "#aceitar o acesso ao drive"
      ],
      "metadata": {
        "colab": {
          "base_uri": "https://localhost:8080/"
        },
        "id": "aU9es8Jrqp-G",
        "outputId": "e7f32ea4-e050-47df-b9c6-f98837d207f6"
      },
      "execution_count": 115,
      "outputs": [
        {
          "output_type": "stream",
          "name": "stdout",
          "text": [
            "Mounted at /content/drive\n"
          ]
        }
      ]
    },
    {
      "cell_type": "code",
      "execution_count": 2,
      "metadata": {
        "id": "MZ7OagothGq-"
      },
      "outputs": [],
      "source": [
        "#Pegar o estado do car\n",
        "\n",
        "def pegar_uf(car):\n",
        "    uf = car[:2]\n",
        "    return uf"
      ]
    },
    {
      "cell_type": "code",
      "execution_count": 4,
      "metadata": {
        "id": "u-Dml95ChGq-"
      },
      "outputs": [],
      "source": [
        "df_terra = pd.read_excel('/content/drive/MyDrive/Colab Notebooks/PyGEO/Pratica/VEGA/Organizacao_Dados/Planilhas/Base ProTerra_unicos_v2.xlsx')"
      ]
    },
    {
      "cell_type": "code",
      "execution_count": 5,
      "metadata": {
        "id": "EjPPawOmhGq_"
      },
      "outputs": [],
      "source": [
        "#aplica a função de pegar estado na coluna do car\n",
        "df_terra['uf'] = df_terra['CAR'].apply(pegar_uf)"
      ]
    },
    {
      "cell_type": "code",
      "execution_count": 6,
      "metadata": {
        "colab": {
          "base_uri": "https://localhost:8080/"
        },
        "id": "QRMaJobahGq_",
        "outputId": "bd2c0cb5-c1b4-4e50-cdf8-d883b45be7e1"
      },
      "outputs": [
        {
          "output_type": "execute_result",
          "data": {
            "text/plain": [
              "array(['MT', 'MS', 'AG'], dtype=object)"
            ]
          },
          "metadata": {},
          "execution_count": 6
        }
      ],
      "source": [
        "#retorna os valores únicos da coluna uf\n",
        "df_terra['uf'].unique()"
      ]
    },
    {
      "cell_type": "code",
      "source": [
        "df_terra.head()"
      ],
      "metadata": {
        "colab": {
          "base_uri": "https://localhost:8080/",
          "height": 389
        },
        "id": "dDREl1surMKN",
        "outputId": "3d119f49-2786-40cc-fa87-538520baeb4a"
      },
      "execution_count": 8,
      "outputs": [
        {
          "output_type": "execute_result",
          "data": {
            "text/plain": [
              "   Ano Safra  Contrato Master                                  Parceiro  \\\n",
              "0       2023       1000197794                    AGRICOLA ALVORADA S.A.   \n",
              "1       2023       1000197794                    AGRICOLA ALVORADA S.A.   \n",
              "2       2023       1000250901                      ALDUIR JOSE CENEDESE   \n",
              "3       2023       1000242839                      ROBERTO PEDRO TONIAL   \n",
              "4       2023       1000199607  COOPERATIVA AGROPECUARIA E INDUSTRIAL CE   \n",
              "\n",
              "         Faz CNPJ      Faz CPF  Cidade do Parceiro Faz Estado  \\\n",
              "0  04854422000185            #  PRIMAVERA DO LESTE      BR/MT   \n",
              "1  04854422000185            #  PRIMAVERA DO LESTE      BR/MT   \n",
              "2               #  34015876172          NOVA MUTUM      BR/MT   \n",
              "3               #  22938699034              SONORA      BR/MS   \n",
              "4  07572351000116            #             SORRISO      BR/MT   \n",
              "\n",
              "                   UF              Cidade  \\\n",
              "0         Mato Grosso  PRIMAVERA DO LESTE   \n",
              "1         Mato Grosso  PRIMAVERA DO LESTE   \n",
              "2         Mato Grosso          NOVA MUTUM   \n",
              "3  Mato Grosso do Sul              SONORA   \n",
              "4         Mato Grosso             SORRISO   \n",
              "\n",
              "                                           CAR  uf  \n",
              "0  MT-5103858-6B44C556CC4F47F688437DF306C7A537  MT  \n",
              "1  MT-5103858-7266FE90D714412C8C3E20002A0421B9  MT  \n",
              "2  MT-5106224-E4C1BD92A8D54E5E85E0777D4E4F9AB7  MT  \n",
              "3  MS-5007935-D86FEF0A4E754898B76C4847D3DF9C24  MS  \n",
              "4  MT-5107925-B4BA61F0EFA44189ABBAE14D1ECA6FB5  MT  "
            ],
            "text/html": [
              "\n",
              "\n",
              "  <div id=\"df-0c18f549-a640-4906-bf97-093d1e551158\">\n",
              "    <div class=\"colab-df-container\">\n",
              "      <div>\n",
              "<style scoped>\n",
              "    .dataframe tbody tr th:only-of-type {\n",
              "        vertical-align: middle;\n",
              "    }\n",
              "\n",
              "    .dataframe tbody tr th {\n",
              "        vertical-align: top;\n",
              "    }\n",
              "\n",
              "    .dataframe thead th {\n",
              "        text-align: right;\n",
              "    }\n",
              "</style>\n",
              "<table border=\"1\" class=\"dataframe\">\n",
              "  <thead>\n",
              "    <tr style=\"text-align: right;\">\n",
              "      <th></th>\n",
              "      <th>Ano Safra</th>\n",
              "      <th>Contrato Master</th>\n",
              "      <th>Parceiro</th>\n",
              "      <th>Faz CNPJ</th>\n",
              "      <th>Faz CPF</th>\n",
              "      <th>Cidade do Parceiro</th>\n",
              "      <th>Faz Estado</th>\n",
              "      <th>UF</th>\n",
              "      <th>Cidade</th>\n",
              "      <th>CAR</th>\n",
              "      <th>uf</th>\n",
              "    </tr>\n",
              "  </thead>\n",
              "  <tbody>\n",
              "    <tr>\n",
              "      <th>0</th>\n",
              "      <td>2023</td>\n",
              "      <td>1000197794</td>\n",
              "      <td>AGRICOLA ALVORADA S.A.</td>\n",
              "      <td>04854422000185</td>\n",
              "      <td>#</td>\n",
              "      <td>PRIMAVERA DO LESTE</td>\n",
              "      <td>BR/MT</td>\n",
              "      <td>Mato Grosso</td>\n",
              "      <td>PRIMAVERA DO LESTE</td>\n",
              "      <td>MT-5103858-6B44C556CC4F47F688437DF306C7A537</td>\n",
              "      <td>MT</td>\n",
              "    </tr>\n",
              "    <tr>\n",
              "      <th>1</th>\n",
              "      <td>2023</td>\n",
              "      <td>1000197794</td>\n",
              "      <td>AGRICOLA ALVORADA S.A.</td>\n",
              "      <td>04854422000185</td>\n",
              "      <td>#</td>\n",
              "      <td>PRIMAVERA DO LESTE</td>\n",
              "      <td>BR/MT</td>\n",
              "      <td>Mato Grosso</td>\n",
              "      <td>PRIMAVERA DO LESTE</td>\n",
              "      <td>MT-5103858-7266FE90D714412C8C3E20002A0421B9</td>\n",
              "      <td>MT</td>\n",
              "    </tr>\n",
              "    <tr>\n",
              "      <th>2</th>\n",
              "      <td>2023</td>\n",
              "      <td>1000250901</td>\n",
              "      <td>ALDUIR JOSE CENEDESE</td>\n",
              "      <td>#</td>\n",
              "      <td>34015876172</td>\n",
              "      <td>NOVA MUTUM</td>\n",
              "      <td>BR/MT</td>\n",
              "      <td>Mato Grosso</td>\n",
              "      <td>NOVA MUTUM</td>\n",
              "      <td>MT-5106224-E4C1BD92A8D54E5E85E0777D4E4F9AB7</td>\n",
              "      <td>MT</td>\n",
              "    </tr>\n",
              "    <tr>\n",
              "      <th>3</th>\n",
              "      <td>2023</td>\n",
              "      <td>1000242839</td>\n",
              "      <td>ROBERTO PEDRO TONIAL</td>\n",
              "      <td>#</td>\n",
              "      <td>22938699034</td>\n",
              "      <td>SONORA</td>\n",
              "      <td>BR/MS</td>\n",
              "      <td>Mato Grosso do Sul</td>\n",
              "      <td>SONORA</td>\n",
              "      <td>MS-5007935-D86FEF0A4E754898B76C4847D3DF9C24</td>\n",
              "      <td>MS</td>\n",
              "    </tr>\n",
              "    <tr>\n",
              "      <th>4</th>\n",
              "      <td>2023</td>\n",
              "      <td>1000199607</td>\n",
              "      <td>COOPERATIVA AGROPECUARIA E INDUSTRIAL CE</td>\n",
              "      <td>07572351000116</td>\n",
              "      <td>#</td>\n",
              "      <td>SORRISO</td>\n",
              "      <td>BR/MT</td>\n",
              "      <td>Mato Grosso</td>\n",
              "      <td>SORRISO</td>\n",
              "      <td>MT-5107925-B4BA61F0EFA44189ABBAE14D1ECA6FB5</td>\n",
              "      <td>MT</td>\n",
              "    </tr>\n",
              "  </tbody>\n",
              "</table>\n",
              "</div>\n",
              "      <button class=\"colab-df-convert\" onclick=\"convertToInteractive('df-0c18f549-a640-4906-bf97-093d1e551158')\"\n",
              "              title=\"Convert this dataframe to an interactive table.\"\n",
              "              style=\"display:none;\">\n",
              "\n",
              "  <svg xmlns=\"http://www.w3.org/2000/svg\" height=\"24px\"viewBox=\"0 0 24 24\"\n",
              "       width=\"24px\">\n",
              "    <path d=\"M0 0h24v24H0V0z\" fill=\"none\"/>\n",
              "    <path d=\"M18.56 5.44l.94 2.06.94-2.06 2.06-.94-2.06-.94-.94-2.06-.94 2.06-2.06.94zm-11 1L8.5 8.5l.94-2.06 2.06-.94-2.06-.94L8.5 2.5l-.94 2.06-2.06.94zm10 10l.94 2.06.94-2.06 2.06-.94-2.06-.94-.94-2.06-.94 2.06-2.06.94z\"/><path d=\"M17.41 7.96l-1.37-1.37c-.4-.4-.92-.59-1.43-.59-.52 0-1.04.2-1.43.59L10.3 9.45l-7.72 7.72c-.78.78-.78 2.05 0 2.83L4 21.41c.39.39.9.59 1.41.59.51 0 1.02-.2 1.41-.59l7.78-7.78 2.81-2.81c.8-.78.8-2.07 0-2.86zM5.41 20L4 18.59l7.72-7.72 1.47 1.35L5.41 20z\"/>\n",
              "  </svg>\n",
              "      </button>\n",
              "\n",
              "\n",
              "\n",
              "    <div id=\"df-23c53f67-dc9b-425c-a4fe-2df07405ea42\">\n",
              "      <button class=\"colab-df-quickchart\" onclick=\"quickchart('df-23c53f67-dc9b-425c-a4fe-2df07405ea42')\"\n",
              "              title=\"Suggest charts.\"\n",
              "              style=\"display:none;\">\n",
              "\n",
              "<svg xmlns=\"http://www.w3.org/2000/svg\" height=\"24px\"viewBox=\"0 0 24 24\"\n",
              "     width=\"24px\">\n",
              "    <g>\n",
              "        <path d=\"M19 3H5c-1.1 0-2 .9-2 2v14c0 1.1.9 2 2 2h14c1.1 0 2-.9 2-2V5c0-1.1-.9-2-2-2zM9 17H7v-7h2v7zm4 0h-2V7h2v10zm4 0h-2v-4h2v4z\"/>\n",
              "    </g>\n",
              "</svg>\n",
              "      </button>\n",
              "    </div>\n",
              "\n",
              "<style>\n",
              "  .colab-df-quickchart {\n",
              "    background-color: #E8F0FE;\n",
              "    border: none;\n",
              "    border-radius: 50%;\n",
              "    cursor: pointer;\n",
              "    display: none;\n",
              "    fill: #1967D2;\n",
              "    height: 32px;\n",
              "    padding: 0 0 0 0;\n",
              "    width: 32px;\n",
              "  }\n",
              "\n",
              "  .colab-df-quickchart:hover {\n",
              "    background-color: #E2EBFA;\n",
              "    box-shadow: 0px 1px 2px rgba(60, 64, 67, 0.3), 0px 1px 3px 1px rgba(60, 64, 67, 0.15);\n",
              "    fill: #174EA6;\n",
              "  }\n",
              "\n",
              "  [theme=dark] .colab-df-quickchart {\n",
              "    background-color: #3B4455;\n",
              "    fill: #D2E3FC;\n",
              "  }\n",
              "\n",
              "  [theme=dark] .colab-df-quickchart:hover {\n",
              "    background-color: #434B5C;\n",
              "    box-shadow: 0px 1px 3px 1px rgba(0, 0, 0, 0.15);\n",
              "    filter: drop-shadow(0px 1px 2px rgba(0, 0, 0, 0.3));\n",
              "    fill: #FFFFFF;\n",
              "  }\n",
              "</style>\n",
              "\n",
              "    <script>\n",
              "      async function quickchart(key) {\n",
              "        const containerElement = document.querySelector('#' + key);\n",
              "        const charts = await google.colab.kernel.invokeFunction(\n",
              "            'suggestCharts', [key], {});\n",
              "      }\n",
              "    </script>\n",
              "\n",
              "      <script>\n",
              "\n",
              "function displayQuickchartButton(domScope) {\n",
              "  let quickchartButtonEl =\n",
              "    domScope.querySelector('#df-23c53f67-dc9b-425c-a4fe-2df07405ea42 button.colab-df-quickchart');\n",
              "  quickchartButtonEl.style.display =\n",
              "    google.colab.kernel.accessAllowed ? 'block' : 'none';\n",
              "}\n",
              "\n",
              "        displayQuickchartButton(document);\n",
              "      </script>\n",
              "      <style>\n",
              "    .colab-df-container {\n",
              "      display:flex;\n",
              "      flex-wrap:wrap;\n",
              "      gap: 12px;\n",
              "    }\n",
              "\n",
              "    .colab-df-convert {\n",
              "      background-color: #E8F0FE;\n",
              "      border: none;\n",
              "      border-radius: 50%;\n",
              "      cursor: pointer;\n",
              "      display: none;\n",
              "      fill: #1967D2;\n",
              "      height: 32px;\n",
              "      padding: 0 0 0 0;\n",
              "      width: 32px;\n",
              "    }\n",
              "\n",
              "    .colab-df-convert:hover {\n",
              "      background-color: #E2EBFA;\n",
              "      box-shadow: 0px 1px 2px rgba(60, 64, 67, 0.3), 0px 1px 3px 1px rgba(60, 64, 67, 0.15);\n",
              "      fill: #174EA6;\n",
              "    }\n",
              "\n",
              "    [theme=dark] .colab-df-convert {\n",
              "      background-color: #3B4455;\n",
              "      fill: #D2E3FC;\n",
              "    }\n",
              "\n",
              "    [theme=dark] .colab-df-convert:hover {\n",
              "      background-color: #434B5C;\n",
              "      box-shadow: 0px 1px 3px 1px rgba(0, 0, 0, 0.15);\n",
              "      filter: drop-shadow(0px 1px 2px rgba(0, 0, 0, 0.3));\n",
              "      fill: #FFFFFF;\n",
              "    }\n",
              "  </style>\n",
              "\n",
              "      <script>\n",
              "        const buttonEl =\n",
              "          document.querySelector('#df-0c18f549-a640-4906-bf97-093d1e551158 button.colab-df-convert');\n",
              "        buttonEl.style.display =\n",
              "          google.colab.kernel.accessAllowed ? 'block' : 'none';\n",
              "\n",
              "        async function convertToInteractive(key) {\n",
              "          const element = document.querySelector('#df-0c18f549-a640-4906-bf97-093d1e551158');\n",
              "          const dataTable =\n",
              "            await google.colab.kernel.invokeFunction('convertToInteractive',\n",
              "                                                     [key], {});\n",
              "          if (!dataTable) return;\n",
              "\n",
              "          const docLinkHtml = 'Like what you see? Visit the ' +\n",
              "            '<a target=\"_blank\" href=https://colab.research.google.com/notebooks/data_table.ipynb>data table notebook</a>'\n",
              "            + ' to learn more about interactive tables.';\n",
              "          element.innerHTML = '';\n",
              "          dataTable['output_type'] = 'display_data';\n",
              "          await google.colab.output.renderOutput(dataTable, element);\n",
              "          const docLink = document.createElement('div');\n",
              "          docLink.innerHTML = docLinkHtml;\n",
              "          element.appendChild(docLink);\n",
              "        }\n",
              "      </script>\n",
              "    </div>\n",
              "  </div>\n"
            ]
          },
          "metadata": {},
          "execution_count": 8
        }
      ]
    },
    {
      "cell_type": "code",
      "execution_count": 7,
      "metadata": {
        "id": "yy034ktkhGq_"
      },
      "outputs": [],
      "source": [
        "mt = gpd.read_file('/content/drive/MyDrive/Colab Notebooks/PyGEO/Pratica/VEGA/Organizacao_Dados/Area_Plantada_Bunge/CAR_MT_com_grid.shp')\n",
        "#sc = gpd.read_file(r'sicar\\final\\SC.shp')"
      ]
    },
    {
      "cell_type": "code",
      "execution_count": null,
      "metadata": {
        "id": "RvfFg89RhGq_"
      },
      "outputs": [],
      "source": [
        "#concatena os dois shapes\n",
        "#gdfzawn = pd.concat([sc,pr])"
      ]
    },
    {
      "cell_type": "code",
      "execution_count": 9,
      "metadata": {
        "id": "V-WecjkBhGq_"
      },
      "outputs": [],
      "source": [
        "#Junta o shape com o excel a partir da coluna código\n",
        "dffinal_t = pd.merge(df_terra.rename(columns={'CAR':'codigo'}),mt,how='left',on='codigo')"
      ]
    },
    {
      "cell_type": "code",
      "execution_count": 10,
      "metadata": {
        "colab": {
          "base_uri": "https://localhost:8080/"
        },
        "id": "2QPTo7sYhGrA",
        "outputId": "dab639e6-9f89-4416-a78a-b7d21b9fc814"
      },
      "outputs": [
        {
          "output_type": "stream",
          "name": "stdout",
          "text": [
            "<class 'pandas.core.frame.DataFrame'>\n",
            "Int64Index: 93 entries, 0 to 92\n",
            "Data columns (total 22 columns):\n",
            " #   Column              Non-Null Count  Dtype   \n",
            "---  ------              --------------  -----   \n",
            " 0   Ano Safra           93 non-null     int64   \n",
            " 1   Contrato Master     93 non-null     int64   \n",
            " 2   Parceiro            93 non-null     object  \n",
            " 3   Faz CNPJ            93 non-null     object  \n",
            " 4   Faz CPF             93 non-null     object  \n",
            " 5   Cidade do Parceiro  93 non-null     object  \n",
            " 6   Faz Estado          93 non-null     object  \n",
            " 7   UF                  93 non-null     object  \n",
            " 8   Cidade              93 non-null     object  \n",
            " 9   codigo              93 non-null     object  \n",
            " 10  uf_x                93 non-null     object  \n",
            " 11  situacao            87 non-null     object  \n",
            " 12  condicao            87 non-null     object  \n",
            " 13  uf_y                87 non-null     object  \n",
            " 14  nome_munic          87 non-null     object  \n",
            " 15  id_municip          87 non-null     float64 \n",
            " 16  modulo_fis          87 non-null     float64 \n",
            " 17  tipo                87 non-null     object  \n",
            " 18  area_ha             87 non-null     float64 \n",
            " 19  cep                 87 non-null     object  \n",
            " 20  nome                87 non-null     object  \n",
            " 21  geometry            87 non-null     geometry\n",
            "dtypes: float64(3), geometry(1), int64(2), object(16)\n",
            "memory usage: 16.7+ KB\n"
          ]
        }
      ],
      "source": [
        "#Exibe as informações de cada coluna\n",
        "dffinal_t.info()"
      ]
    },
    {
      "cell_type": "code",
      "source": [
        "dffinal_t.head(3)"
      ],
      "metadata": {
        "colab": {
          "base_uri": "https://localhost:8080/",
          "height": 462
        },
        "id": "UDXCguGcrr-F",
        "outputId": "ccec6369-f152-48a2-e0e7-3470fe49df06"
      },
      "execution_count": 12,
      "outputs": [
        {
          "output_type": "execute_result",
          "data": {
            "text/plain": [
              "   Ano Safra  Contrato Master                Parceiro        Faz CNPJ  \\\n",
              "0       2023       1000197794  AGRICOLA ALVORADA S.A.  04854422000185   \n",
              "1       2023       1000197794  AGRICOLA ALVORADA S.A.  04854422000185   \n",
              "2       2023       1000250901    ALDUIR JOSE CENEDESE               #   \n",
              "\n",
              "       Faz CPF  Cidade do Parceiro Faz Estado           UF  \\\n",
              "0            #  PRIMAVERA DO LESTE      BR/MT  Mato Grosso   \n",
              "1            #  PRIMAVERA DO LESTE      BR/MT  Mato Grosso   \n",
              "2  34015876172          NOVA MUTUM      BR/MT  Mato Grosso   \n",
              "\n",
              "               Cidade                                       codigo  ...  \\\n",
              "0  PRIMAVERA DO LESTE  MT-5103858-6B44C556CC4F47F688437DF306C7A537  ...   \n",
              "1  PRIMAVERA DO LESTE  MT-5103858-7266FE90D714412C8C3E20002A0421B9  ...   \n",
              "2          NOVA MUTUM  MT-5106224-E4C1BD92A8D54E5E85E0777D4E4F9AB7  ...   \n",
              "\n",
              "                                            condicao uf_y       nome_munic  \\\n",
              "0                                         Em análise   MT  Gaúcha do Norte   \n",
              "1  Aguardando análise, não passível de revisão de...   MT  Gaúcha do Norte   \n",
              "2  Aguardando análise, não passível de revisão de...   MT       Nova Mutum   \n",
              "\n",
              "  id_municip modulo_fis  tipo  area_ha       cep   nome  \\\n",
              "0  5103858.0      23.93   IRU   2151.7  78875000  BG125   \n",
              "1  5103858.0       2.71   IRU    243.6  78875000  BF126   \n",
              "2  5106224.0      82.79   IRU   8283.2  78450000  BG120   \n",
              "\n",
              "                                            geometry  \n",
              "0  POLYGON ((-53.44720 -13.25552, -53.44664 -13.2...  \n",
              "1  POLYGON ((-53.21894 -13.09053, -53.21511 -13.0...  \n",
              "2  POLYGON ((-55.96310 -13.37944, -55.96330 -13.3...  \n",
              "\n",
              "[3 rows x 22 columns]"
            ],
            "text/html": [
              "\n",
              "\n",
              "  <div id=\"df-15810846-4114-4eb1-a274-155a759690d0\">\n",
              "    <div class=\"colab-df-container\">\n",
              "      <div>\n",
              "<style scoped>\n",
              "    .dataframe tbody tr th:only-of-type {\n",
              "        vertical-align: middle;\n",
              "    }\n",
              "\n",
              "    .dataframe tbody tr th {\n",
              "        vertical-align: top;\n",
              "    }\n",
              "\n",
              "    .dataframe thead th {\n",
              "        text-align: right;\n",
              "    }\n",
              "</style>\n",
              "<table border=\"1\" class=\"dataframe\">\n",
              "  <thead>\n",
              "    <tr style=\"text-align: right;\">\n",
              "      <th></th>\n",
              "      <th>Ano Safra</th>\n",
              "      <th>Contrato Master</th>\n",
              "      <th>Parceiro</th>\n",
              "      <th>Faz CNPJ</th>\n",
              "      <th>Faz CPF</th>\n",
              "      <th>Cidade do Parceiro</th>\n",
              "      <th>Faz Estado</th>\n",
              "      <th>UF</th>\n",
              "      <th>Cidade</th>\n",
              "      <th>codigo</th>\n",
              "      <th>...</th>\n",
              "      <th>condicao</th>\n",
              "      <th>uf_y</th>\n",
              "      <th>nome_munic</th>\n",
              "      <th>id_municip</th>\n",
              "      <th>modulo_fis</th>\n",
              "      <th>tipo</th>\n",
              "      <th>area_ha</th>\n",
              "      <th>cep</th>\n",
              "      <th>nome</th>\n",
              "      <th>geometry</th>\n",
              "    </tr>\n",
              "  </thead>\n",
              "  <tbody>\n",
              "    <tr>\n",
              "      <th>0</th>\n",
              "      <td>2023</td>\n",
              "      <td>1000197794</td>\n",
              "      <td>AGRICOLA ALVORADA S.A.</td>\n",
              "      <td>04854422000185</td>\n",
              "      <td>#</td>\n",
              "      <td>PRIMAVERA DO LESTE</td>\n",
              "      <td>BR/MT</td>\n",
              "      <td>Mato Grosso</td>\n",
              "      <td>PRIMAVERA DO LESTE</td>\n",
              "      <td>MT-5103858-6B44C556CC4F47F688437DF306C7A537</td>\n",
              "      <td>...</td>\n",
              "      <td>Em análise</td>\n",
              "      <td>MT</td>\n",
              "      <td>Gaúcha do Norte</td>\n",
              "      <td>5103858.0</td>\n",
              "      <td>23.93</td>\n",
              "      <td>IRU</td>\n",
              "      <td>2151.7</td>\n",
              "      <td>78875000</td>\n",
              "      <td>BG125</td>\n",
              "      <td>POLYGON ((-53.44720 -13.25552, -53.44664 -13.2...</td>\n",
              "    </tr>\n",
              "    <tr>\n",
              "      <th>1</th>\n",
              "      <td>2023</td>\n",
              "      <td>1000197794</td>\n",
              "      <td>AGRICOLA ALVORADA S.A.</td>\n",
              "      <td>04854422000185</td>\n",
              "      <td>#</td>\n",
              "      <td>PRIMAVERA DO LESTE</td>\n",
              "      <td>BR/MT</td>\n",
              "      <td>Mato Grosso</td>\n",
              "      <td>PRIMAVERA DO LESTE</td>\n",
              "      <td>MT-5103858-7266FE90D714412C8C3E20002A0421B9</td>\n",
              "      <td>...</td>\n",
              "      <td>Aguardando análise, não passível de revisão de...</td>\n",
              "      <td>MT</td>\n",
              "      <td>Gaúcha do Norte</td>\n",
              "      <td>5103858.0</td>\n",
              "      <td>2.71</td>\n",
              "      <td>IRU</td>\n",
              "      <td>243.6</td>\n",
              "      <td>78875000</td>\n",
              "      <td>BF126</td>\n",
              "      <td>POLYGON ((-53.21894 -13.09053, -53.21511 -13.0...</td>\n",
              "    </tr>\n",
              "    <tr>\n",
              "      <th>2</th>\n",
              "      <td>2023</td>\n",
              "      <td>1000250901</td>\n",
              "      <td>ALDUIR JOSE CENEDESE</td>\n",
              "      <td>#</td>\n",
              "      <td>34015876172</td>\n",
              "      <td>NOVA MUTUM</td>\n",
              "      <td>BR/MT</td>\n",
              "      <td>Mato Grosso</td>\n",
              "      <td>NOVA MUTUM</td>\n",
              "      <td>MT-5106224-E4C1BD92A8D54E5E85E0777D4E4F9AB7</td>\n",
              "      <td>...</td>\n",
              "      <td>Aguardando análise, não passível de revisão de...</td>\n",
              "      <td>MT</td>\n",
              "      <td>Nova Mutum</td>\n",
              "      <td>5106224.0</td>\n",
              "      <td>82.79</td>\n",
              "      <td>IRU</td>\n",
              "      <td>8283.2</td>\n",
              "      <td>78450000</td>\n",
              "      <td>BG120</td>\n",
              "      <td>POLYGON ((-55.96310 -13.37944, -55.96330 -13.3...</td>\n",
              "    </tr>\n",
              "  </tbody>\n",
              "</table>\n",
              "<p>3 rows × 22 columns</p>\n",
              "</div>\n",
              "      <button class=\"colab-df-convert\" onclick=\"convertToInteractive('df-15810846-4114-4eb1-a274-155a759690d0')\"\n",
              "              title=\"Convert this dataframe to an interactive table.\"\n",
              "              style=\"display:none;\">\n",
              "\n",
              "  <svg xmlns=\"http://www.w3.org/2000/svg\" height=\"24px\"viewBox=\"0 0 24 24\"\n",
              "       width=\"24px\">\n",
              "    <path d=\"M0 0h24v24H0V0z\" fill=\"none\"/>\n",
              "    <path d=\"M18.56 5.44l.94 2.06.94-2.06 2.06-.94-2.06-.94-.94-2.06-.94 2.06-2.06.94zm-11 1L8.5 8.5l.94-2.06 2.06-.94-2.06-.94L8.5 2.5l-.94 2.06-2.06.94zm10 10l.94 2.06.94-2.06 2.06-.94-2.06-.94-.94-2.06-.94 2.06-2.06.94z\"/><path d=\"M17.41 7.96l-1.37-1.37c-.4-.4-.92-.59-1.43-.59-.52 0-1.04.2-1.43.59L10.3 9.45l-7.72 7.72c-.78.78-.78 2.05 0 2.83L4 21.41c.39.39.9.59 1.41.59.51 0 1.02-.2 1.41-.59l7.78-7.78 2.81-2.81c.8-.78.8-2.07 0-2.86zM5.41 20L4 18.59l7.72-7.72 1.47 1.35L5.41 20z\"/>\n",
              "  </svg>\n",
              "      </button>\n",
              "\n",
              "\n",
              "\n",
              "    <div id=\"df-c5dd5fd0-a03a-4dab-8ae0-06dd5ef4a349\">\n",
              "      <button class=\"colab-df-quickchart\" onclick=\"quickchart('df-c5dd5fd0-a03a-4dab-8ae0-06dd5ef4a349')\"\n",
              "              title=\"Suggest charts.\"\n",
              "              style=\"display:none;\">\n",
              "\n",
              "<svg xmlns=\"http://www.w3.org/2000/svg\" height=\"24px\"viewBox=\"0 0 24 24\"\n",
              "     width=\"24px\">\n",
              "    <g>\n",
              "        <path d=\"M19 3H5c-1.1 0-2 .9-2 2v14c0 1.1.9 2 2 2h14c1.1 0 2-.9 2-2V5c0-1.1-.9-2-2-2zM9 17H7v-7h2v7zm4 0h-2V7h2v10zm4 0h-2v-4h2v4z\"/>\n",
              "    </g>\n",
              "</svg>\n",
              "      </button>\n",
              "    </div>\n",
              "\n",
              "<style>\n",
              "  .colab-df-quickchart {\n",
              "    background-color: #E8F0FE;\n",
              "    border: none;\n",
              "    border-radius: 50%;\n",
              "    cursor: pointer;\n",
              "    display: none;\n",
              "    fill: #1967D2;\n",
              "    height: 32px;\n",
              "    padding: 0 0 0 0;\n",
              "    width: 32px;\n",
              "  }\n",
              "\n",
              "  .colab-df-quickchart:hover {\n",
              "    background-color: #E2EBFA;\n",
              "    box-shadow: 0px 1px 2px rgba(60, 64, 67, 0.3), 0px 1px 3px 1px rgba(60, 64, 67, 0.15);\n",
              "    fill: #174EA6;\n",
              "  }\n",
              "\n",
              "  [theme=dark] .colab-df-quickchart {\n",
              "    background-color: #3B4455;\n",
              "    fill: #D2E3FC;\n",
              "  }\n",
              "\n",
              "  [theme=dark] .colab-df-quickchart:hover {\n",
              "    background-color: #434B5C;\n",
              "    box-shadow: 0px 1px 3px 1px rgba(0, 0, 0, 0.15);\n",
              "    filter: drop-shadow(0px 1px 2px rgba(0, 0, 0, 0.3));\n",
              "    fill: #FFFFFF;\n",
              "  }\n",
              "</style>\n",
              "\n",
              "    <script>\n",
              "      async function quickchart(key) {\n",
              "        const containerElement = document.querySelector('#' + key);\n",
              "        const charts = await google.colab.kernel.invokeFunction(\n",
              "            'suggestCharts', [key], {});\n",
              "      }\n",
              "    </script>\n",
              "\n",
              "      <script>\n",
              "\n",
              "function displayQuickchartButton(domScope) {\n",
              "  let quickchartButtonEl =\n",
              "    domScope.querySelector('#df-c5dd5fd0-a03a-4dab-8ae0-06dd5ef4a349 button.colab-df-quickchart');\n",
              "  quickchartButtonEl.style.display =\n",
              "    google.colab.kernel.accessAllowed ? 'block' : 'none';\n",
              "}\n",
              "\n",
              "        displayQuickchartButton(document);\n",
              "      </script>\n",
              "      <style>\n",
              "    .colab-df-container {\n",
              "      display:flex;\n",
              "      flex-wrap:wrap;\n",
              "      gap: 12px;\n",
              "    }\n",
              "\n",
              "    .colab-df-convert {\n",
              "      background-color: #E8F0FE;\n",
              "      border: none;\n",
              "      border-radius: 50%;\n",
              "      cursor: pointer;\n",
              "      display: none;\n",
              "      fill: #1967D2;\n",
              "      height: 32px;\n",
              "      padding: 0 0 0 0;\n",
              "      width: 32px;\n",
              "    }\n",
              "\n",
              "    .colab-df-convert:hover {\n",
              "      background-color: #E2EBFA;\n",
              "      box-shadow: 0px 1px 2px rgba(60, 64, 67, 0.3), 0px 1px 3px 1px rgba(60, 64, 67, 0.15);\n",
              "      fill: #174EA6;\n",
              "    }\n",
              "\n",
              "    [theme=dark] .colab-df-convert {\n",
              "      background-color: #3B4455;\n",
              "      fill: #D2E3FC;\n",
              "    }\n",
              "\n",
              "    [theme=dark] .colab-df-convert:hover {\n",
              "      background-color: #434B5C;\n",
              "      box-shadow: 0px 1px 3px 1px rgba(0, 0, 0, 0.15);\n",
              "      filter: drop-shadow(0px 1px 2px rgba(0, 0, 0, 0.3));\n",
              "      fill: #FFFFFF;\n",
              "    }\n",
              "  </style>\n",
              "\n",
              "      <script>\n",
              "        const buttonEl =\n",
              "          document.querySelector('#df-15810846-4114-4eb1-a274-155a759690d0 button.colab-df-convert');\n",
              "        buttonEl.style.display =\n",
              "          google.colab.kernel.accessAllowed ? 'block' : 'none';\n",
              "\n",
              "        async function convertToInteractive(key) {\n",
              "          const element = document.querySelector('#df-15810846-4114-4eb1-a274-155a759690d0');\n",
              "          const dataTable =\n",
              "            await google.colab.kernel.invokeFunction('convertToInteractive',\n",
              "                                                     [key], {});\n",
              "          if (!dataTable) return;\n",
              "\n",
              "          const docLinkHtml = 'Like what you see? Visit the ' +\n",
              "            '<a target=\"_blank\" href=https://colab.research.google.com/notebooks/data_table.ipynb>data table notebook</a>'\n",
              "            + ' to learn more about interactive tables.';\n",
              "          element.innerHTML = '';\n",
              "          dataTable['output_type'] = 'display_data';\n",
              "          await google.colab.output.renderOutput(dataTable, element);\n",
              "          const docLink = document.createElement('div');\n",
              "          docLink.innerHTML = docLinkHtml;\n",
              "          element.appendChild(docLink);\n",
              "        }\n",
              "      </script>\n",
              "    </div>\n",
              "  </div>\n"
            ]
          },
          "metadata": {},
          "execution_count": 12
        }
      ]
    },
    {
      "cell_type": "code",
      "source": [
        "dffinal_t.columns"
      ],
      "metadata": {
        "colab": {
          "base_uri": "https://localhost:8080/"
        },
        "id": "9pFtLSuIsPYD",
        "outputId": "d8ff27d4-350a-4a88-f4e1-2cfd15593871"
      },
      "execution_count": 15,
      "outputs": [
        {
          "output_type": "execute_result",
          "data": {
            "text/plain": [
              "Index(['Ano Safra', 'Contrato Master', 'Parceiro', 'Faz CNPJ', 'Faz CPF',\n",
              "       'Cidade do Parceiro', 'Faz Estado', 'UF', 'Cidade', 'codigo', 'uf_x',\n",
              "       'situacao', 'condicao', 'uf_y', 'nome_munic', 'id_municip',\n",
              "       'modulo_fis', 'tipo', 'area_ha', 'cep', 'nome', 'geometry'],\n",
              "      dtype='object')"
            ]
          },
          "metadata": {},
          "execution_count": 15
        }
      ]
    },
    {
      "cell_type": "code",
      "execution_count": 16,
      "metadata": {
        "id": "mLUmackvhGrA"
      },
      "outputs": [],
      "source": [
        "#seleciona colunas específicas\n",
        "dffinal_t = dffinal_t[['codigo','situacao','area_ha','Ano Safra','Contrato Master','Parceiro','Faz CNPJ','Faz CPF','Cidade do Parceiro','Cidade','tipo'\n",
        ",'uf_x','nome','geometry']]\n",
        "#renomeia a coluna\n",
        "dffinal_t = dffinal_t.rename(columns={'uf_x':'uf'})"
      ]
    },
    {
      "cell_type": "code",
      "source": [
        "dffinal_t.head(3)"
      ],
      "metadata": {
        "colab": {
          "base_uri": "https://localhost:8080/",
          "height": 413
        },
        "id": "YvThzHfVtEiV",
        "outputId": "ac9a736f-7900-4288-d249-abcdc078a8c5"
      },
      "execution_count": 17,
      "outputs": [
        {
          "output_type": "execute_result",
          "data": {
            "text/plain": [
              "                                        codigo situacao  area_ha  Ano Safra  \\\n",
              "0  MT-5103858-6B44C556CC4F47F688437DF306C7A537       AT   2151.7       2023   \n",
              "1  MT-5103858-7266FE90D714412C8C3E20002A0421B9       AT    243.6       2023   \n",
              "2  MT-5106224-E4C1BD92A8D54E5E85E0777D4E4F9AB7       AT   8283.2       2023   \n",
              "\n",
              "   Contrato Master                Parceiro        Faz CNPJ      Faz CPF  \\\n",
              "0       1000197794  AGRICOLA ALVORADA S.A.  04854422000185            #   \n",
              "1       1000197794  AGRICOLA ALVORADA S.A.  04854422000185            #   \n",
              "2       1000250901    ALDUIR JOSE CENEDESE               #  34015876172   \n",
              "\n",
              "   Cidade do Parceiro              Cidade tipo  uf   nome  \\\n",
              "0  PRIMAVERA DO LESTE  PRIMAVERA DO LESTE  IRU  MT  BG125   \n",
              "1  PRIMAVERA DO LESTE  PRIMAVERA DO LESTE  IRU  MT  BF126   \n",
              "2          NOVA MUTUM          NOVA MUTUM  IRU  MT  BG120   \n",
              "\n",
              "                                            geometry  \n",
              "0  POLYGON ((-53.44720 -13.25552, -53.44664 -13.2...  \n",
              "1  POLYGON ((-53.21894 -13.09053, -53.21511 -13.0...  \n",
              "2  POLYGON ((-55.96310 -13.37944, -55.96330 -13.3...  "
            ],
            "text/html": [
              "\n",
              "\n",
              "  <div id=\"df-c16312ac-af36-4083-8e32-fd675ff53568\">\n",
              "    <div class=\"colab-df-container\">\n",
              "      <div>\n",
              "<style scoped>\n",
              "    .dataframe tbody tr th:only-of-type {\n",
              "        vertical-align: middle;\n",
              "    }\n",
              "\n",
              "    .dataframe tbody tr th {\n",
              "        vertical-align: top;\n",
              "    }\n",
              "\n",
              "    .dataframe thead th {\n",
              "        text-align: right;\n",
              "    }\n",
              "</style>\n",
              "<table border=\"1\" class=\"dataframe\">\n",
              "  <thead>\n",
              "    <tr style=\"text-align: right;\">\n",
              "      <th></th>\n",
              "      <th>codigo</th>\n",
              "      <th>situacao</th>\n",
              "      <th>area_ha</th>\n",
              "      <th>Ano Safra</th>\n",
              "      <th>Contrato Master</th>\n",
              "      <th>Parceiro</th>\n",
              "      <th>Faz CNPJ</th>\n",
              "      <th>Faz CPF</th>\n",
              "      <th>Cidade do Parceiro</th>\n",
              "      <th>Cidade</th>\n",
              "      <th>tipo</th>\n",
              "      <th>uf</th>\n",
              "      <th>nome</th>\n",
              "      <th>geometry</th>\n",
              "    </tr>\n",
              "  </thead>\n",
              "  <tbody>\n",
              "    <tr>\n",
              "      <th>0</th>\n",
              "      <td>MT-5103858-6B44C556CC4F47F688437DF306C7A537</td>\n",
              "      <td>AT</td>\n",
              "      <td>2151.7</td>\n",
              "      <td>2023</td>\n",
              "      <td>1000197794</td>\n",
              "      <td>AGRICOLA ALVORADA S.A.</td>\n",
              "      <td>04854422000185</td>\n",
              "      <td>#</td>\n",
              "      <td>PRIMAVERA DO LESTE</td>\n",
              "      <td>PRIMAVERA DO LESTE</td>\n",
              "      <td>IRU</td>\n",
              "      <td>MT</td>\n",
              "      <td>BG125</td>\n",
              "      <td>POLYGON ((-53.44720 -13.25552, -53.44664 -13.2...</td>\n",
              "    </tr>\n",
              "    <tr>\n",
              "      <th>1</th>\n",
              "      <td>MT-5103858-7266FE90D714412C8C3E20002A0421B9</td>\n",
              "      <td>AT</td>\n",
              "      <td>243.6</td>\n",
              "      <td>2023</td>\n",
              "      <td>1000197794</td>\n",
              "      <td>AGRICOLA ALVORADA S.A.</td>\n",
              "      <td>04854422000185</td>\n",
              "      <td>#</td>\n",
              "      <td>PRIMAVERA DO LESTE</td>\n",
              "      <td>PRIMAVERA DO LESTE</td>\n",
              "      <td>IRU</td>\n",
              "      <td>MT</td>\n",
              "      <td>BF126</td>\n",
              "      <td>POLYGON ((-53.21894 -13.09053, -53.21511 -13.0...</td>\n",
              "    </tr>\n",
              "    <tr>\n",
              "      <th>2</th>\n",
              "      <td>MT-5106224-E4C1BD92A8D54E5E85E0777D4E4F9AB7</td>\n",
              "      <td>AT</td>\n",
              "      <td>8283.2</td>\n",
              "      <td>2023</td>\n",
              "      <td>1000250901</td>\n",
              "      <td>ALDUIR JOSE CENEDESE</td>\n",
              "      <td>#</td>\n",
              "      <td>34015876172</td>\n",
              "      <td>NOVA MUTUM</td>\n",
              "      <td>NOVA MUTUM</td>\n",
              "      <td>IRU</td>\n",
              "      <td>MT</td>\n",
              "      <td>BG120</td>\n",
              "      <td>POLYGON ((-55.96310 -13.37944, -55.96330 -13.3...</td>\n",
              "    </tr>\n",
              "  </tbody>\n",
              "</table>\n",
              "</div>\n",
              "      <button class=\"colab-df-convert\" onclick=\"convertToInteractive('df-c16312ac-af36-4083-8e32-fd675ff53568')\"\n",
              "              title=\"Convert this dataframe to an interactive table.\"\n",
              "              style=\"display:none;\">\n",
              "\n",
              "  <svg xmlns=\"http://www.w3.org/2000/svg\" height=\"24px\"viewBox=\"0 0 24 24\"\n",
              "       width=\"24px\">\n",
              "    <path d=\"M0 0h24v24H0V0z\" fill=\"none\"/>\n",
              "    <path d=\"M18.56 5.44l.94 2.06.94-2.06 2.06-.94-2.06-.94-.94-2.06-.94 2.06-2.06.94zm-11 1L8.5 8.5l.94-2.06 2.06-.94-2.06-.94L8.5 2.5l-.94 2.06-2.06.94zm10 10l.94 2.06.94-2.06 2.06-.94-2.06-.94-.94-2.06-.94 2.06-2.06.94z\"/><path d=\"M17.41 7.96l-1.37-1.37c-.4-.4-.92-.59-1.43-.59-.52 0-1.04.2-1.43.59L10.3 9.45l-7.72 7.72c-.78.78-.78 2.05 0 2.83L4 21.41c.39.39.9.59 1.41.59.51 0 1.02-.2 1.41-.59l7.78-7.78 2.81-2.81c.8-.78.8-2.07 0-2.86zM5.41 20L4 18.59l7.72-7.72 1.47 1.35L5.41 20z\"/>\n",
              "  </svg>\n",
              "      </button>\n",
              "\n",
              "\n",
              "\n",
              "    <div id=\"df-440579d6-20b4-4fc0-a9a9-9969d37d83b1\">\n",
              "      <button class=\"colab-df-quickchart\" onclick=\"quickchart('df-440579d6-20b4-4fc0-a9a9-9969d37d83b1')\"\n",
              "              title=\"Suggest charts.\"\n",
              "              style=\"display:none;\">\n",
              "\n",
              "<svg xmlns=\"http://www.w3.org/2000/svg\" height=\"24px\"viewBox=\"0 0 24 24\"\n",
              "     width=\"24px\">\n",
              "    <g>\n",
              "        <path d=\"M19 3H5c-1.1 0-2 .9-2 2v14c0 1.1.9 2 2 2h14c1.1 0 2-.9 2-2V5c0-1.1-.9-2-2-2zM9 17H7v-7h2v7zm4 0h-2V7h2v10zm4 0h-2v-4h2v4z\"/>\n",
              "    </g>\n",
              "</svg>\n",
              "      </button>\n",
              "    </div>\n",
              "\n",
              "<style>\n",
              "  .colab-df-quickchart {\n",
              "    background-color: #E8F0FE;\n",
              "    border: none;\n",
              "    border-radius: 50%;\n",
              "    cursor: pointer;\n",
              "    display: none;\n",
              "    fill: #1967D2;\n",
              "    height: 32px;\n",
              "    padding: 0 0 0 0;\n",
              "    width: 32px;\n",
              "  }\n",
              "\n",
              "  .colab-df-quickchart:hover {\n",
              "    background-color: #E2EBFA;\n",
              "    box-shadow: 0px 1px 2px rgba(60, 64, 67, 0.3), 0px 1px 3px 1px rgba(60, 64, 67, 0.15);\n",
              "    fill: #174EA6;\n",
              "  }\n",
              "\n",
              "  [theme=dark] .colab-df-quickchart {\n",
              "    background-color: #3B4455;\n",
              "    fill: #D2E3FC;\n",
              "  }\n",
              "\n",
              "  [theme=dark] .colab-df-quickchart:hover {\n",
              "    background-color: #434B5C;\n",
              "    box-shadow: 0px 1px 3px 1px rgba(0, 0, 0, 0.15);\n",
              "    filter: drop-shadow(0px 1px 2px rgba(0, 0, 0, 0.3));\n",
              "    fill: #FFFFFF;\n",
              "  }\n",
              "</style>\n",
              "\n",
              "    <script>\n",
              "      async function quickchart(key) {\n",
              "        const containerElement = document.querySelector('#' + key);\n",
              "        const charts = await google.colab.kernel.invokeFunction(\n",
              "            'suggestCharts', [key], {});\n",
              "      }\n",
              "    </script>\n",
              "\n",
              "      <script>\n",
              "\n",
              "function displayQuickchartButton(domScope) {\n",
              "  let quickchartButtonEl =\n",
              "    domScope.querySelector('#df-440579d6-20b4-4fc0-a9a9-9969d37d83b1 button.colab-df-quickchart');\n",
              "  quickchartButtonEl.style.display =\n",
              "    google.colab.kernel.accessAllowed ? 'block' : 'none';\n",
              "}\n",
              "\n",
              "        displayQuickchartButton(document);\n",
              "      </script>\n",
              "      <style>\n",
              "    .colab-df-container {\n",
              "      display:flex;\n",
              "      flex-wrap:wrap;\n",
              "      gap: 12px;\n",
              "    }\n",
              "\n",
              "    .colab-df-convert {\n",
              "      background-color: #E8F0FE;\n",
              "      border: none;\n",
              "      border-radius: 50%;\n",
              "      cursor: pointer;\n",
              "      display: none;\n",
              "      fill: #1967D2;\n",
              "      height: 32px;\n",
              "      padding: 0 0 0 0;\n",
              "      width: 32px;\n",
              "    }\n",
              "\n",
              "    .colab-df-convert:hover {\n",
              "      background-color: #E2EBFA;\n",
              "      box-shadow: 0px 1px 2px rgba(60, 64, 67, 0.3), 0px 1px 3px 1px rgba(60, 64, 67, 0.15);\n",
              "      fill: #174EA6;\n",
              "    }\n",
              "\n",
              "    [theme=dark] .colab-df-convert {\n",
              "      background-color: #3B4455;\n",
              "      fill: #D2E3FC;\n",
              "    }\n",
              "\n",
              "    [theme=dark] .colab-df-convert:hover {\n",
              "      background-color: #434B5C;\n",
              "      box-shadow: 0px 1px 3px 1px rgba(0, 0, 0, 0.15);\n",
              "      filter: drop-shadow(0px 1px 2px rgba(0, 0, 0, 0.3));\n",
              "      fill: #FFFFFF;\n",
              "    }\n",
              "  </style>\n",
              "\n",
              "      <script>\n",
              "        const buttonEl =\n",
              "          document.querySelector('#df-c16312ac-af36-4083-8e32-fd675ff53568 button.colab-df-convert');\n",
              "        buttonEl.style.display =\n",
              "          google.colab.kernel.accessAllowed ? 'block' : 'none';\n",
              "\n",
              "        async function convertToInteractive(key) {\n",
              "          const element = document.querySelector('#df-c16312ac-af36-4083-8e32-fd675ff53568');\n",
              "          const dataTable =\n",
              "            await google.colab.kernel.invokeFunction('convertToInteractive',\n",
              "                                                     [key], {});\n",
              "          if (!dataTable) return;\n",
              "\n",
              "          const docLinkHtml = 'Like what you see? Visit the ' +\n",
              "            '<a target=\"_blank\" href=https://colab.research.google.com/notebooks/data_table.ipynb>data table notebook</a>'\n",
              "            + ' to learn more about interactive tables.';\n",
              "          element.innerHTML = '';\n",
              "          dataTable['output_type'] = 'display_data';\n",
              "          await google.colab.output.renderOutput(dataTable, element);\n",
              "          const docLink = document.createElement('div');\n",
              "          docLink.innerHTML = docLinkHtml;\n",
              "          element.appendChild(docLink);\n",
              "        }\n",
              "      </script>\n",
              "    </div>\n",
              "  </div>\n"
            ]
          },
          "metadata": {},
          "execution_count": 17
        }
      ]
    },
    {
      "cell_type": "code",
      "execution_count": 18,
      "metadata": {
        "id": "Id_xH3UehGrA"
      },
      "outputs": [],
      "source": [
        "#transforma o dataframe em geodataframe\n",
        "gdffinal_t = gpd.GeoDataFrame(dffinal_t,geometry='geometry',crs='epsg:4674')"
      ]
    },
    {
      "cell_type": "code",
      "execution_count": null,
      "metadata": {
        "id": "UDMRw19UhGrA"
      },
      "outputs": [],
      "source": [
        "#Transforma coluna em string\n",
        "#gdffinal['Prazo'] = gdffinal['Prazo'].astype('str')\n",
        "#gdffinal['Recebimento'] = gdffinal['Recebimento'].astype('str')"
      ]
    },
    {
      "cell_type": "code",
      "source": [
        "gdffinal_t.shape"
      ],
      "metadata": {
        "colab": {
          "base_uri": "https://localhost:8080/"
        },
        "id": "mILMnCzXteSo",
        "outputId": "8515e6d2-b49f-4db8-af8d-16f9bf2eb079"
      },
      "execution_count": 20,
      "outputs": [
        {
          "output_type": "execute_result",
          "data": {
            "text/plain": [
              "(93, 14)"
            ]
          },
          "metadata": {},
          "execution_count": 20
        }
      ]
    },
    {
      "cell_type": "code",
      "execution_count": 21,
      "metadata": {
        "colab": {
          "base_uri": "https://localhost:8080/"
        },
        "id": "OMa8zXUjhGrA",
        "outputId": "7f270b6c-4002-46a5-fc5f-5c92e5a719aa"
      },
      "outputs": [
        {
          "output_type": "stream",
          "name": "stderr",
          "text": [
            "<ipython-input-21-70ecdfb56c15>:1: UserWarning: Column names longer than 10 characters will be truncated when saved to ESRI Shapefile.\n",
            "  gdffinal_t.to_file('/content/drive/MyDrive/Colab Notebooks/PyGEO/Pratica/VEGA/Organizacao_Dados/Area_Plantada_Bunge/Cruzamento Planilha CAR/BaseProTerra.shp')\n",
            "WARNING:fiona._env:Normalized/laundered field name: 'Contrato Master' to 'Contrato M'\n",
            "WARNING:fiona._env:Normalized/laundered field name: 'Cidade do Parceiro' to 'Cidade do'\n"
          ]
        }
      ],
      "source": [
        "gdffinal_t.to_file('/content/drive/MyDrive/Colab Notebooks/PyGEO/Pratica/VEGA/Organizacao_Dados/Area_Plantada_Bunge/Cruzamento Planilha CAR/BaseProTerra.shp')"
      ]
    },
    {
      "cell_type": "code",
      "source": [
        "gdffinal_t.plot()"
      ],
      "metadata": {
        "colab": {
          "base_uri": "https://localhost:8080/",
          "height": 440
        },
        "id": "GUy9q294uBgO",
        "outputId": "05425d64-c342-4162-d422-11a07798bce8"
      },
      "execution_count": 22,
      "outputs": [
        {
          "output_type": "execute_result",
          "data": {
            "text/plain": [
              "<Axes: >"
            ]
          },
          "metadata": {},
          "execution_count": 22
        },
        {
          "output_type": "display_data",
          "data": {
            "text/plain": [
              "<Figure size 640x480 with 1 Axes>"
            ],
            "image/png": "[encoded data removed]"
          },
          "metadata": {}
        }
      ]
    },
    {
      "cell_type": "markdown",
      "source": [
        "#*Agora fazer a mesma coisa para a outra base e, se der, ver se tem CAR's iguais!*"
      ],
      "metadata": {
        "id": "Hg3_khR_uO8T"
      }
    },
    {
      "cell_type": "code",
      "execution_count": 116,
      "metadata": {
        "id": "e51CBdmjukAh"
      },
      "outputs": [],
      "source": [
        "df_2bs = pd.read_excel('/content/drive/MyDrive/Colab Notebooks/PyGEO/Pratica/VEGA/Organizacao_Dados/Planilhas/Base_2BSvs_limpa_v2.xlsx')"
      ]
    },
    {
      "cell_type": "code",
      "source": [
        "df_2bs.head(1)"
      ],
      "metadata": {
        "colab": {
          "base_uri": "https://localhost:8080/",
          "height": 194
        },
        "id": "GiMPNv5uvbqP",
        "outputId": "14868fd1-e947-45d2-8b2d-b5d654ad4ad8"
      },
      "execution_count": 82,
      "outputs": [
        {
          "output_type": "execute_result",
          "data": {
            "text/plain": [
              "   Controle Nome do Fornecedor Alteração- Produtor       Nome da Fazenda  \\\n",
              "0         1  ADAIR VENDRUSCOLO   ADAIR VENDRUSCOLO  Fazenda Porta do Céu   \n",
              "\n",
              "  Análise de Risco  Data Analise de Risco      CNPJ/CPF  \\\n",
              "0         APROVADO                   2016  142420280-91   \n",
              "\n",
              "                  Endereço / Localização (CAR)  UF Produto  \\\n",
              "0  MT-5106224-39BA926191FE48A98E566C62F16D926C  MT    SOJA   \n",
              "\n",
              "   Área Cultivada (ha)  Quantidade de soja Potencial (t/ano) Comentarios  \n",
              "0            1032.8389                           3857.653292         NaN  "
            ],
            "text/html": [
              "\n",
              "\n",
              "  <div id=\"df-3f60b23d-4bc1-41f0-8267-66882e019135\">\n",
              "    <div class=\"colab-df-container\">\n",
              "      <div>\n",
              "<style scoped>\n",
              "    .dataframe tbody tr th:only-of-type {\n",
              "        vertical-align: middle;\n",
              "    }\n",
              "\n",
              "    .dataframe tbody tr th {\n",
              "        vertical-align: top;\n",
              "    }\n",
              "\n",
              "    .dataframe thead th {\n",
              "        text-align: right;\n",
              "    }\n",
              "</style>\n",
              "<table border=\"1\" class=\"dataframe\">\n",
              "  <thead>\n",
              "    <tr style=\"text-align: right;\">\n",
              "      <th></th>\n",
              "      <th>Controle</th>\n",
              "      <th>Nome do Fornecedor</th>\n",
              "      <th>Alteração- Produtor</th>\n",
              "      <th>Nome da Fazenda</th>\n",
              "      <th>Análise de Risco</th>\n",
              "      <th>Data Analise de Risco</th>\n",
              "      <th>CNPJ/CPF</th>\n",
              "      <th>Endereço / Localização (CAR)</th>\n",
              "      <th>UF</th>\n",
              "      <th>Produto</th>\n",
              "      <th>Área Cultivada (ha)</th>\n",
              "      <th>Quantidade de soja Potencial (t/ano)</th>\n",
              "      <th>Comentarios</th>\n",
              "    </tr>\n",
              "  </thead>\n",
              "  <tbody>\n",
              "    <tr>\n",
              "      <th>0</th>\n",
              "      <td>1</td>\n",
              "      <td>ADAIR VENDRUSCOLO</td>\n",
              "      <td>ADAIR VENDRUSCOLO</td>\n",
              "      <td>Fazenda Porta do Céu</td>\n",
              "      <td>APROVADO</td>\n",
              "      <td>2016</td>\n",
              "      <td>142420280-91</td>\n",
              "      <td>MT-5106224-39BA926191FE48A98E566C62F16D926C</td>\n",
              "      <td>MT</td>\n",
              "      <td>SOJA</td>\n",
              "      <td>1032.8389</td>\n",
              "      <td>3857.653292</td>\n",
              "      <td>NaN</td>\n",
              "    </tr>\n",
              "  </tbody>\n",
              "</table>\n",
              "</div>\n",
              "      <button class=\"colab-df-convert\" onclick=\"convertToInteractive('df-3f60b23d-4bc1-41f0-8267-66882e019135')\"\n",
              "              title=\"Convert this dataframe to an interactive table.\"\n",
              "              style=\"display:none;\">\n",
              "\n",
              "  <svg xmlns=\"http://www.w3.org/2000/svg\" height=\"24px\"viewBox=\"0 0 24 24\"\n",
              "       width=\"24px\">\n",
              "    <path d=\"M0 0h24v24H0V0z\" fill=\"none\"/>\n",
              "    <path d=\"M18.56 5.44l.94 2.06.94-2.06 2.06-.94-2.06-.94-.94-2.06-.94 2.06-2.06.94zm-11 1L8.5 8.5l.94-2.06 2.06-.94-2.06-.94L8.5 2.5l-.94 2.06-2.06.94zm10 10l.94 2.06.94-2.06 2.06-.94-2.06-.94-.94-2.06-.94 2.06-2.06.94z\"/><path d=\"M17.41 7.96l-1.37-1.37c-.4-.4-.92-.59-1.43-.59-.52 0-1.04.2-1.43.59L10.3 9.45l-7.72 7.72c-.78.78-.78 2.05 0 2.83L4 21.41c.39.39.9.59 1.41.59.51 0 1.02-.2 1.41-.59l7.78-7.78 2.81-2.81c.8-.78.8-2.07 0-2.86zM5.41 20L4 18.59l7.72-7.72 1.47 1.35L5.41 20z\"/>\n",
              "  </svg>\n",
              "      </button>\n",
              "\n",
              "\n",
              "\n",
              "    <div id=\"df-c95c61c6-1e62-4172-a776-ba67c6fb3919\">\n",
              "      <button class=\"colab-df-quickchart\" onclick=\"quickchart('df-c95c61c6-1e62-4172-a776-ba67c6fb3919')\"\n",
              "              title=\"Suggest charts.\"\n",
              "              style=\"display:none;\">\n",
              "\n",
              "<svg xmlns=\"http://www.w3.org/2000/svg\" height=\"24px\"viewBox=\"0 0 24 24\"\n",
              "     width=\"24px\">\n",
              "    <g>\n",
              "        <path d=\"M19 3H5c-1.1 0-2 .9-2 2v14c0 1.1.9 2 2 2h14c1.1 0 2-.9 2-2V5c0-1.1-.9-2-2-2zM9 17H7v-7h2v7zm4 0h-2V7h2v10zm4 0h-2v-4h2v4z\"/>\n",
              "    </g>\n",
              "</svg>\n",
              "      </button>\n",
              "    </div>\n",
              "\n",
              "<style>\n",
              "  .colab-df-quickchart {\n",
              "    background-color: #E8F0FE;\n",
              "    border: none;\n",
              "    border-radius: 50%;\n",
              "    cursor: pointer;\n",
              "    display: none;\n",
              "    fill: #1967D2;\n",
              "    height: 32px;\n",
              "    padding: 0 0 0 0;\n",
              "    width: 32px;\n",
              "  }\n",
              "\n",
              "  .colab-df-quickchart:hover {\n",
              "    background-color: #E2EBFA;\n",
              "    box-shadow: 0px 1px 2px rgba(60, 64, 67, 0.3), 0px 1px 3px 1px rgba(60, 64, 67, 0.15);\n",
              "    fill: #174EA6;\n",
              "  }\n",
              "\n",
              "  [theme=dark] .colab-df-quickchart {\n",
              "    background-color: #3B4455;\n",
              "    fill: #D2E3FC;\n",
              "  }\n",
              "\n",
              "  [theme=dark] .colab-df-quickchart:hover {\n",
              "    background-color: #434B5C;\n",
              "    box-shadow: 0px 1px 3px 1px rgba(0, 0, 0, 0.15);\n",
              "    filter: drop-shadow(0px 1px 2px rgba(0, 0, 0, 0.3));\n",
              "    fill: #FFFFFF;\n",
              "  }\n",
              "</style>\n",
              "\n",
              "    <script>\n",
              "      async function quickchart(key) {\n",
              "        const containerElement = document.querySelector('#' + key);\n",
              "        const charts = await google.colab.kernel.invokeFunction(\n",
              "            'suggestCharts', [key], {});\n",
              "      }\n",
              "    </script>\n",
              "\n",
              "      <script>\n",
              "\n",
              "function displayQuickchartButton(domScope) {\n",
              "  let quickchartButtonEl =\n",
              "    domScope.querySelector('#df-c95c61c6-1e62-4172-a776-ba67c6fb3919 button.colab-df-quickchart');\n",
              "  quickchartButtonEl.style.display =\n",
              "    google.colab.kernel.accessAllowed ? 'block' : 'none';\n",
              "}\n",
              "\n",
              "        displayQuickchartButton(document);\n",
              "      </script>\n",
              "      <style>\n",
              "    .colab-df-container {\n",
              "      display:flex;\n",
              "      flex-wrap:wrap;\n",
              "      gap: 12px;\n",
              "    }\n",
              "\n",
              "    .colab-df-convert {\n",
              "      background-color: #E8F0FE;\n",
              "      border: none;\n",
              "      border-radius: 50%;\n",
              "      cursor: pointer;\n",
              "      display: none;\n",
              "      fill: #1967D2;\n",
              "      height: 32px;\n",
              "      padding: 0 0 0 0;\n",
              "      width: 32px;\n",
              "    }\n",
              "\n",
              "    .colab-df-convert:hover {\n",
              "      background-color: #E2EBFA;\n",
              "      box-shadow: 0px 1px 2px rgba(60, 64, 67, 0.3), 0px 1px 3px 1px rgba(60, 64, 67, 0.15);\n",
              "      fill: #174EA6;\n",
              "    }\n",
              "\n",
              "    [theme=dark] .colab-df-convert {\n",
              "      background-color: #3B4455;\n",
              "      fill: #D2E3FC;\n",
              "    }\n",
              "\n",
              "    [theme=dark] .colab-df-convert:hover {\n",
              "      background-color: #434B5C;\n",
              "      box-shadow: 0px 1px 3px 1px rgba(0, 0, 0, 0.15);\n",
              "      filter: drop-shadow(0px 1px 2px rgba(0, 0, 0, 0.3));\n",
              "      fill: #FFFFFF;\n",
              "    }\n",
              "  </style>\n",
              "\n",
              "      <script>\n",
              "        const buttonEl =\n",
              "          document.querySelector('#df-3f60b23d-4bc1-41f0-8267-66882e019135 button.colab-df-convert');\n",
              "        buttonEl.style.display =\n",
              "          google.colab.kernel.accessAllowed ? 'block' : 'none';\n",
              "\n",
              "        async function convertToInteractive(key) {\n",
              "          const element = document.querySelector('#df-3f60b23d-4bc1-41f0-8267-66882e019135');\n",
              "          const dataTable =\n",
              "            await google.colab.kernel.invokeFunction('convertToInteractive',\n",
              "                                                     [key], {});\n",
              "          if (!dataTable) return;\n",
              "\n",
              "          const docLinkHtml = 'Like what you see? Visit the ' +\n",
              "            '<a target=\"_blank\" href=https://colab.research.google.com/notebooks/data_table.ipynb>data table notebook</a>'\n",
              "            + ' to learn more about interactive tables.';\n",
              "          element.innerHTML = '';\n",
              "          dataTable['output_type'] = 'display_data';\n",
              "          await google.colab.output.renderOutput(dataTable, element);\n",
              "          const docLink = document.createElement('div');\n",
              "          docLink.innerHTML = docLinkHtml;\n",
              "          element.appendChild(docLink);\n",
              "        }\n",
              "      </script>\n",
              "    </div>\n",
              "  </div>\n"
            ]
          },
          "metadata": {},
          "execution_count": 82
        }
      ]
    },
    {
      "cell_type": "code",
      "source": [
        "#df_2bs['Endereço / Localização (CAR)'].dtype\n",
        "# que merda de type é esse? = dtype('O')"
      ],
      "metadata": {
        "colab": {
          "base_uri": "https://localhost:8080/"
        },
        "id": "11XGz4W7wLbq",
        "outputId": "154ffff1-cb04-4842-bb89-f9fd4f4758d6"
      },
      "execution_count": 43,
      "outputs": [
        {
          "output_type": "execute_result",
          "data": {
            "text/plain": [
              "array(['MT-5106224-39BA926191FE48A98E566C62F16D926C',\n",
              "       'MT-5107065-FBDF698F39D740B1B456829489E23DEA',\n",
              "       'MT-5107065-C5547CB906EA42C8905C6000B9F78836', ...,\n",
              "       'MT-5102686-8B66FBFF1D3944BC837A0E5FE05D5539',\n",
              "       'MT-5106752-50206030A6484B1392956AB4A72D5247',\n",
              "       'MT-5106307-85BE7A19DC554612B82F23C912A6B8F0'], dtype=object)"
            ]
          },
          "metadata": {},
          "execution_count": 43
        }
      ]
    },
    {
      "cell_type": "code",
      "source": [
        "# Criar uma nova coluna com os dados da coluna Endereço / Localização (CAR) em formato string\n",
        "df_2bs['CAR']=df_2bs['Endereço / Localização (CAR)'].apply(str) # criando coluna CAR que será populada com Endereço / Localização (CAR)\n",
        "                                                        #convertidos para valores string - texto\n",
        "# OBRIGADO ChatGPT!"
      ],
      "metadata": {
        "id": "PLpS0jsDvpjU"
      },
      "execution_count": 117,
      "outputs": []
    },
    {
      "cell_type": "code",
      "source": [
        "#\n",
        "df_2bs['CAR'] = df_2bs['CAR'].astype(str).str.replace('.', '')"
      ],
      "metadata": {
        "colab": {
          "base_uri": "https://localhost:8080/"
        },
        "id": "-JBnnP_f99KT",
        "outputId": "c31ffacb-4b5b-442f-87aa-e27894c5daa8"
      },
      "execution_count": 118,
      "outputs": [
        {
          "output_type": "stream",
          "name": "stderr",
          "text": [
            "<ipython-input-118-515b0e493fa4>:2: FutureWarning: The default value of regex will change from True to False in a future version. In addition, single character regular expressions will *not* be treated as literal strings when regex=True.\n",
            "  df_2bs['CAR'] = df_2bs['CAR'].astype(str).str.replace('.', '')\n"
          ]
        }
      ]
    },
    {
      "cell_type": "code",
      "source": [
        "df_2bs.head(2)"
      ],
      "metadata": {
        "colab": {
          "base_uri": "https://localhost:8080/",
          "height": 297
        },
        "id": "WTbFPf4gxuOT",
        "outputId": "e1969c64-c051-4900-921f-a30747222468"
      },
      "execution_count": 44,
      "outputs": [
        {
          "output_type": "execute_result",
          "data": {
            "text/plain": [
              "   Controle Nome do Fornecedor Alteração- Produtor       Nome da Fazenda  \\\n",
              "0         1  ADAIR VENDRUSCOLO   ADAIR VENDRUSCOLO  Fazenda Porta do Céu   \n",
              "1         2   ADALBERTO BACKES    ADALBERTO BACKES   Fazenda São Matheus   \n",
              "\n",
              "  Análise de Risco  Data Analise de Risco      CNPJ/CPF  \\\n",
              "0         APROVADO                   2016  142420280-91   \n",
              "1         APROVADO                   2017  492767510-68   \n",
              "\n",
              "                  Endereço / Localização (CAR)  UF Produto  \\\n",
              "0  MT-5106224-39BA926191FE48A98E566C62F16D926C  MT    SOJA   \n",
              "1  MT-5107065-FBDF698F39D740B1B456829489E23DEA  MT    SOJA   \n",
              "\n",
              "   Área Cultivada (ha)  Quantidade de soja Potencial (t/ano) Comentarios  \\\n",
              "0            1032.8389                           3857.653292         NaN   \n",
              "1             592.2200                           2211.941700         NaN   \n",
              "\n",
              "                                           CAR  uf  \n",
              "0  MT-5106224-39BA926191FE48A98E566C62F16D926C  MT  \n",
              "1  MT-5107065-FBDF698F39D740B1B456829489E23DEA  MT  "
            ],
            "text/html": [
              "\n",
              "\n",
              "  <div id=\"df-8c1e862a-e8d3-4554-b91c-c2295761d9b0\">\n",
              "    <div class=\"colab-df-container\">\n",
              "      <div>\n",
              "<style scoped>\n",
              "    .dataframe tbody tr th:only-of-type {\n",
              "        vertical-align: middle;\n",
              "    }\n",
              "\n",
              "    .dataframe tbody tr th {\n",
              "        vertical-align: top;\n",
              "    }\n",
              "\n",
              "    .dataframe thead th {\n",
              "        text-align: right;\n",
              "    }\n",
              "</style>\n",
              "<table border=\"1\" class=\"dataframe\">\n",
              "  <thead>\n",
              "    <tr style=\"text-align: right;\">\n",
              "      <th></th>\n",
              "      <th>Controle</th>\n",
              "      <th>Nome do Fornecedor</th>\n",
              "      <th>Alteração- Produtor</th>\n",
              "      <th>Nome da Fazenda</th>\n",
              "      <th>Análise de Risco</th>\n",
              "      <th>Data Analise de Risco</th>\n",
              "      <th>CNPJ/CPF</th>\n",
              "      <th>Endereço / Localização (CAR)</th>\n",
              "      <th>UF</th>\n",
              "      <th>Produto</th>\n",
              "      <th>Área Cultivada (ha)</th>\n",
              "      <th>Quantidade de soja Potencial (t/ano)</th>\n",
              "      <th>Comentarios</th>\n",
              "      <th>CAR</th>\n",
              "      <th>uf</th>\n",
              "    </tr>\n",
              "  </thead>\n",
              "  <tbody>\n",
              "    <tr>\n",
              "      <th>0</th>\n",
              "      <td>1</td>\n",
              "      <td>ADAIR VENDRUSCOLO</td>\n",
              "      <td>ADAIR VENDRUSCOLO</td>\n",
              "      <td>Fazenda Porta do Céu</td>\n",
              "      <td>APROVADO</td>\n",
              "      <td>2016</td>\n",
              "      <td>142420280-91</td>\n",
              "      <td>MT-5106224-39BA926191FE48A98E566C62F16D926C</td>\n",
              "      <td>MT</td>\n",
              "      <td>SOJA</td>\n",
              "      <td>1032.8389</td>\n",
              "      <td>3857.653292</td>\n",
              "      <td>NaN</td>\n",
              "      <td>MT-5106224-39BA926191FE48A98E566C62F16D926C</td>\n",
              "      <td>MT</td>\n",
              "    </tr>\n",
              "    <tr>\n",
              "      <th>1</th>\n",
              "      <td>2</td>\n",
              "      <td>ADALBERTO BACKES</td>\n",
              "      <td>ADALBERTO BACKES</td>\n",
              "      <td>Fazenda São Matheus</td>\n",
              "      <td>APROVADO</td>\n",
              "      <td>2017</td>\n",
              "      <td>492767510-68</td>\n",
              "      <td>MT-5107065-FBDF698F39D740B1B456829489E23DEA</td>\n",
              "      <td>MT</td>\n",
              "      <td>SOJA</td>\n",
              "      <td>592.2200</td>\n",
              "      <td>2211.941700</td>\n",
              "      <td>NaN</td>\n",
              "      <td>MT-5107065-FBDF698F39D740B1B456829489E23DEA</td>\n",
              "      <td>MT</td>\n",
              "    </tr>\n",
              "  </tbody>\n",
              "</table>\n",
              "</div>\n",
              "      <button class=\"colab-df-convert\" onclick=\"convertToInteractive('df-8c1e862a-e8d3-4554-b91c-c2295761d9b0')\"\n",
              "              title=\"Convert this dataframe to an interactive table.\"\n",
              "              style=\"display:none;\">\n",
              "\n",
              "  <svg xmlns=\"http://www.w3.org/2000/svg\" height=\"24px\"viewBox=\"0 0 24 24\"\n",
              "       width=\"24px\">\n",
              "    <path d=\"M0 0h24v24H0V0z\" fill=\"none\"/>\n",
              "    <path d=\"M18.56 5.44l.94 2.06.94-2.06 2.06-.94-2.06-.94-.94-2.06-.94 2.06-2.06.94zm-11 1L8.5 8.5l.94-2.06 2.06-.94-2.06-.94L8.5 2.5l-.94 2.06-2.06.94zm10 10l.94 2.06.94-2.06 2.06-.94-2.06-.94-.94-2.06-.94 2.06-2.06.94z\"/><path d=\"M17.41 7.96l-1.37-1.37c-.4-.4-.92-.59-1.43-.59-.52 0-1.04.2-1.43.59L10.3 9.45l-7.72 7.72c-.78.78-.78 2.05 0 2.83L4 21.41c.39.39.9.59 1.41.59.51 0 1.02-.2 1.41-.59l7.78-7.78 2.81-2.81c.8-.78.8-2.07 0-2.86zM5.41 20L4 18.59l7.72-7.72 1.47 1.35L5.41 20z\"/>\n",
              "  </svg>\n",
              "      </button>\n",
              "\n",
              "\n",
              "\n",
              "    <div id=\"df-818d8ce6-ffd1-4f96-bcff-1fb09d5b9362\">\n",
              "      <button class=\"colab-df-quickchart\" onclick=\"quickchart('df-818d8ce6-ffd1-4f96-bcff-1fb09d5b9362')\"\n",
              "              title=\"Suggest charts.\"\n",
              "              style=\"display:none;\">\n",
              "\n",
              "<svg xmlns=\"http://www.w3.org/2000/svg\" height=\"24px\"viewBox=\"0 0 24 24\"\n",
              "     width=\"24px\">\n",
              "    <g>\n",
              "        <path d=\"M19 3H5c-1.1 0-2 .9-2 2v14c0 1.1.9 2 2 2h14c1.1 0 2-.9 2-2V5c0-1.1-.9-2-2-2zM9 17H7v-7h2v7zm4 0h-2V7h2v10zm4 0h-2v-4h2v4z\"/>\n",
              "    </g>\n",
              "</svg>\n",
              "      </button>\n",
              "    </div>\n",
              "\n",
              "<style>\n",
              "  .colab-df-quickchart {\n",
              "    background-color: #E8F0FE;\n",
              "    border: none;\n",
              "    border-radius: 50%;\n",
              "    cursor: pointer;\n",
              "    display: none;\n",
              "    fill: #1967D2;\n",
              "    height: 32px;\n",
              "    padding: 0 0 0 0;\n",
              "    width: 32px;\n",
              "  }\n",
              "\n",
              "  .colab-df-quickchart:hover {\n",
              "    background-color: #E2EBFA;\n",
              "    box-shadow: 0px 1px 2px rgba(60, 64, 67, 0.3), 0px 1px 3px 1px rgba(60, 64, 67, 0.15);\n",
              "    fill: #174EA6;\n",
              "  }\n",
              "\n",
              "  [theme=dark] .colab-df-quickchart {\n",
              "    background-color: #3B4455;\n",
              "    fill: #D2E3FC;\n",
              "  }\n",
              "\n",
              "  [theme=dark] .colab-df-quickchart:hover {\n",
              "    background-color: #434B5C;\n",
              "    box-shadow: 0px 1px 3px 1px rgba(0, 0, 0, 0.15);\n",
              "    filter: drop-shadow(0px 1px 2px rgba(0, 0, 0, 0.3));\n",
              "    fill: #FFFFFF;\n",
              "  }\n",
              "</style>\n",
              "\n",
              "    <script>\n",
              "      async function quickchart(key) {\n",
              "        const containerElement = document.querySelector('#' + key);\n",
              "        const charts = await google.colab.kernel.invokeFunction(\n",
              "            'suggestCharts', [key], {});\n",
              "      }\n",
              "    </script>\n",
              "\n",
              "      <script>\n",
              "\n",
              "function displayQuickchartButton(domScope) {\n",
              "  let quickchartButtonEl =\n",
              "    domScope.querySelector('#df-818d8ce6-ffd1-4f96-bcff-1fb09d5b9362 button.colab-df-quickchart');\n",
              "  quickchartButtonEl.style.display =\n",
              "    google.colab.kernel.accessAllowed ? 'block' : 'none';\n",
              "}\n",
              "\n",
              "        displayQuickchartButton(document);\n",
              "      </script>\n",
              "      <style>\n",
              "    .colab-df-container {\n",
              "      display:flex;\n",
              "      flex-wrap:wrap;\n",
              "      gap: 12px;\n",
              "    }\n",
              "\n",
              "    .colab-df-convert {\n",
              "      background-color: #E8F0FE;\n",
              "      border: none;\n",
              "      border-radius: 50%;\n",
              "      cursor: pointer;\n",
              "      display: none;\n",
              "      fill: #1967D2;\n",
              "      height: 32px;\n",
              "      padding: 0 0 0 0;\n",
              "      width: 32px;\n",
              "    }\n",
              "\n",
              "    .colab-df-convert:hover {\n",
              "      background-color: #E2EBFA;\n",
              "      box-shadow: 0px 1px 2px rgba(60, 64, 67, 0.3), 0px 1px 3px 1px rgba(60, 64, 67, 0.15);\n",
              "      fill: #174EA6;\n",
              "    }\n",
              "\n",
              "    [theme=dark] .colab-df-convert {\n",
              "      background-color: #3B4455;\n",
              "      fill: #D2E3FC;\n",
              "    }\n",
              "\n",
              "    [theme=dark] .colab-df-convert:hover {\n",
              "      background-color: #434B5C;\n",
              "      box-shadow: 0px 1px 3px 1px rgba(0, 0, 0, 0.15);\n",
              "      filter: drop-shadow(0px 1px 2px rgba(0, 0, 0, 0.3));\n",
              "      fill: #FFFFFF;\n",
              "    }\n",
              "  </style>\n",
              "\n",
              "      <script>\n",
              "        const buttonEl =\n",
              "          document.querySelector('#df-8c1e862a-e8d3-4554-b91c-c2295761d9b0 button.colab-df-convert');\n",
              "        buttonEl.style.display =\n",
              "          google.colab.kernel.accessAllowed ? 'block' : 'none';\n",
              "\n",
              "        async function convertToInteractive(key) {\n",
              "          const element = document.querySelector('#df-8c1e862a-e8d3-4554-b91c-c2295761d9b0');\n",
              "          const dataTable =\n",
              "            await google.colab.kernel.invokeFunction('convertToInteractive',\n",
              "                                                     [key], {});\n",
              "          if (!dataTable) return;\n",
              "\n",
              "          const docLinkHtml = 'Like what you see? Visit the ' +\n",
              "            '<a target=\"_blank\" href=https://colab.research.google.com/notebooks/data_table.ipynb>data table notebook</a>'\n",
              "            + ' to learn more about interactive tables.';\n",
              "          element.innerHTML = '';\n",
              "          dataTable['output_type'] = 'display_data';\n",
              "          await google.colab.output.renderOutput(dataTable, element);\n",
              "          const docLink = document.createElement('div');\n",
              "          docLink.innerHTML = docLinkHtml;\n",
              "          element.appendChild(docLink);\n",
              "        }\n",
              "      </script>\n",
              "    </div>\n",
              "  </div>\n"
            ]
          },
          "metadata": {},
          "execution_count": 44
        }
      ]
    },
    {
      "cell_type": "code",
      "execution_count": 119,
      "metadata": {
        "id": "EJRPCjvKukAi"
      },
      "outputs": [],
      "source": [
        "#aplica a função de pegar estado na coluna do car\n",
        "df_2bs['uf'] = df_2bs['CAR'].apply(pegar_uf)"
      ]
    },
    {
      "cell_type": "code",
      "execution_count": 120,
      "metadata": {
        "colab": {
          "base_uri": "https://localhost:8080/"
        },
        "outputId": "f1e07467-10d5-4640-baaa-e2cbae0c8e86",
        "id": "ny8qTYHbukAi"
      },
      "outputs": [
        {
          "output_type": "execute_result",
          "data": {
            "text/plain": [
              "array(['MT', '19', '81', '27', '13', '94', '10', '14', '56', '12', '31',\n",
              "       '47', '80', '95', '96', '16', '17', '75', '23', '89', '25', '28',\n",
              "       '42', '32', '41', '73', '87', '45', '43', '18', '77', '15', '11',\n",
              "       '21', '63', '22', '78'], dtype=object)"
            ]
          },
          "metadata": {},
          "execution_count": 120
        }
      ],
      "source": [
        "#retorna os valores únicos da coluna uf\n",
        "df_2bs['uf'].unique()"
      ]
    },
    {
      "cell_type": "code",
      "execution_count": null,
      "metadata": {
        "id": "R9EsewXrvNEI"
      },
      "outputs": [],
      "source": [
        "#mt = gpd.read_file('/content/drive/MyDrive/Colab Notebooks/PyGEO/Pratica/VEGA/Organizacao_Dados/Area_Plantada_Bunge/CAR_MT_com_grid.shp')\n",
        "#sc = gpd.read_file(r'sicar\\final\\SC.shp')"
      ]
    },
    {
      "cell_type": "code",
      "source": [
        "# Selecionar o que só é MT, tirar esses números estranhos\n",
        "#df_2bs=df_2bs[df_2bs.uf=='MT']"
      ],
      "metadata": {
        "id": "-DKocJYWyjOl"
      },
      "execution_count": 88,
      "outputs": []
    },
    {
      "cell_type": "code",
      "source": [
        "df_2bs['uf'].unique()"
      ],
      "metadata": {
        "colab": {
          "base_uri": "https://localhost:8080/"
        },
        "id": "KKby0mmWzVV2",
        "outputId": "cf38bcad-4bdb-4b68-e3e5-3118095bfa55"
      },
      "execution_count": 89,
      "outputs": [
        {
          "output_type": "execute_result",
          "data": {
            "text/plain": [
              "array(['MT'], dtype=object)"
            ]
          },
          "metadata": {},
          "execution_count": 89
        }
      ]
    },
    {
      "cell_type": "code",
      "source": [
        "df_2bs.shape"
      ],
      "metadata": {
        "colab": {
          "base_uri": "https://localhost:8080/"
        },
        "id": "Pnh9TFDj1bwY",
        "outputId": "1ca6ada3-474d-4ee6-f011-344349a460fe"
      },
      "execution_count": 121,
      "outputs": [
        {
          "output_type": "execute_result",
          "data": {
            "text/plain": [
              "(1078, 15)"
            ]
          },
          "metadata": {},
          "execution_count": 121
        }
      ]
    },
    {
      "cell_type": "code",
      "execution_count": 122,
      "metadata": {
        "id": "K0qYVSGmvNEI"
      },
      "outputs": [],
      "source": [
        "#Junta o shape com o excel a partir da coluna código\n",
        "dffinal_bs = pd.merge(df_2bs.rename(columns={'CAR':'codigo'}),mt,how='left',on='codigo')"
      ]
    },
    {
      "cell_type": "code",
      "execution_count": 123,
      "metadata": {
        "colab": {
          "base_uri": "https://localhost:8080/"
        },
        "outputId": "0ae1182a-d4bc-4c47-d6b4-f876c9713e07",
        "id": "kbA1sTfZvNEJ"
      },
      "outputs": [
        {
          "output_type": "stream",
          "name": "stdout",
          "text": [
            "<class 'pandas.core.frame.DataFrame'>\n",
            "Int64Index: 1078 entries, 0 to 1077\n",
            "Data columns (total 26 columns):\n",
            " #   Column                                Non-Null Count  Dtype   \n",
            "---  ------                                --------------  -----   \n",
            " 0   Controle                              1078 non-null   int64   \n",
            " 1   Nome do Fornecedor                    1078 non-null   object  \n",
            " 2   Alteração- Produtor                   1078 non-null   object  \n",
            " 3   Nome da Fazenda                       1078 non-null   object  \n",
            " 4   Data Analise de Risco                 1078 non-null   int64   \n",
            " 5   CNPJ/CPF                              1078 non-null   object  \n",
            " 6   Unnamed: 6                            0 non-null      float64 \n",
            " 7   Endereço / Localização (CAR)          1078 non-null   object  \n",
            " 8   UF                                    1078 non-null   object  \n",
            " 9   Produto                               1078 non-null   object  \n",
            " 10  Área Cultivada (ha)                   1061 non-null   float64 \n",
            " 11  Quantidade de soja Potencial (t/ano)  1078 non-null   float64 \n",
            " 12  Comentarios                           639 non-null    object  \n",
            " 13  codigo                                1078 non-null   object  \n",
            " 14  uf_x                                  1078 non-null   object  \n",
            " 15  situacao                              1020 non-null   object  \n",
            " 16  condicao                              1020 non-null   object  \n",
            " 17  uf_y                                  1020 non-null   object  \n",
            " 18  nome_munic                            1020 non-null   object  \n",
            " 19  id_municip                            1020 non-null   float64 \n",
            " 20  modulo_fis                            1020 non-null   float64 \n",
            " 21  tipo                                  1020 non-null   object  \n",
            " 22  area_ha                               1020 non-null   float64 \n",
            " 23  cep                                   1020 non-null   object  \n",
            " 24  nome                                  1020 non-null   object  \n",
            " 25  geometry                              1020 non-null   geometry\n",
            "dtypes: float64(6), geometry(1), int64(2), object(17)\n",
            "memory usage: 227.4+ KB\n"
          ]
        }
      ],
      "source": [
        "#Exibe as informações de cada coluna\n",
        "dffinal_bs.info()"
      ]
    },
    {
      "cell_type": "code",
      "source": [
        "dffinal_bs.head(3)"
      ],
      "metadata": {
        "colab": {
          "base_uri": "https://localhost:8080/",
          "height": 378
        },
        "outputId": "8a1893ad-8972-4c26-dbb2-594b957f51d6",
        "id": "JZaTyC1KvNEJ"
      },
      "execution_count": 143,
      "outputs": [
        {
          "output_type": "execute_result",
          "data": {
            "text/plain": [
              "                                        codigo situacao  area_ha  Controle  \\\n",
              "0  MT-5106224-39BA926191FE48A98E566C62F16D926C       AT   1340.4         1   \n",
              "1  MT-5107065-FBDF698F39D740B1B456829489E23DEA       AT    692.9         2   \n",
              "2  MT-5107065-C5547CB906EA42C8905C6000B9F78836       AT    484.1         3   \n",
              "\n",
              "  Nome do Fornecedor Alteração- Produtor  \\\n",
              "0  ADAIR VENDRUSCOLO   ADAIR VENDRUSCOLO   \n",
              "1   ADALBERTO BACKES    ADALBERTO BACKES   \n",
              "2   Adalberto Backes    ADALBERTO BACKES   \n",
              "\n",
              "                             Nome da Fazenda  Data Analise de Risco  \\\n",
              "0                       Fazenda Porta do Céu                   2016   \n",
              "1                        Fazenda São Matheus                   2017   \n",
              "2  Fazenda Santo Antônio - Lotes 116 e 116 A                   2017   \n",
              "\n",
              "       CNPJ/CPF Produto uf_x   nome  \\\n",
              "0  142420280-91    SOJA   MT  BG118   \n",
              "1  492767510-68    SOJA   MT  BE128   \n",
              "2  492767510-68    SOJA   MT  BE128   \n",
              "\n",
              "                                            geometry  \n",
              "0  POLYGON ((-56.40307 -13.27481, -56.40306 -13.2...  \n",
              "1  POLYGON ((-52.15425 -12.44207, -52.15674 -12.4...  \n",
              "2  POLYGON ((-52.09464 -12.39115, -52.09523 -12.3...  "
            ],
            "text/html": [
              "\n",
              "\n",
              "  <div id=\"df-e063932d-9392-4da6-8b55-812e47a97059\">\n",
              "    <div class=\"colab-df-container\">\n",
              "      <div>\n",
              "<style scoped>\n",
              "    .dataframe tbody tr th:only-of-type {\n",
              "        vertical-align: middle;\n",
              "    }\n",
              "\n",
              "    .dataframe tbody tr th {\n",
              "        vertical-align: top;\n",
              "    }\n",
              "\n",
              "    .dataframe thead th {\n",
              "        text-align: right;\n",
              "    }\n",
              "</style>\n",
              "<table border=\"1\" class=\"dataframe\">\n",
              "  <thead>\n",
              "    <tr style=\"text-align: right;\">\n",
              "      <th></th>\n",
              "      <th>codigo</th>\n",
              "      <th>situacao</th>\n",
              "      <th>area_ha</th>\n",
              "      <th>Controle</th>\n",
              "      <th>Nome do Fornecedor</th>\n",
              "      <th>Alteração- Produtor</th>\n",
              "      <th>Nome da Fazenda</th>\n",
              "      <th>Data Analise de Risco</th>\n",
              "      <th>CNPJ/CPF</th>\n",
              "      <th>Produto</th>\n",
              "      <th>uf_x</th>\n",
              "      <th>nome</th>\n",
              "      <th>geometry</th>\n",
              "    </tr>\n",
              "  </thead>\n",
              "  <tbody>\n",
              "    <tr>\n",
              "      <th>0</th>\n",
              "      <td>MT-5106224-39BA926191FE48A98E566C62F16D926C</td>\n",
              "      <td>AT</td>\n",
              "      <td>1340.4</td>\n",
              "      <td>1</td>\n",
              "      <td>ADAIR VENDRUSCOLO</td>\n",
              "      <td>ADAIR VENDRUSCOLO</td>\n",
              "      <td>Fazenda Porta do Céu</td>\n",
              "      <td>2016</td>\n",
              "      <td>142420280-91</td>\n",
              "      <td>SOJA</td>\n",
              "      <td>MT</td>\n",
              "      <td>BG118</td>\n",
              "      <td>POLYGON ((-56.40307 -13.27481, -56.40306 -13.2...</td>\n",
              "    </tr>\n",
              "    <tr>\n",
              "      <th>1</th>\n",
              "      <td>MT-5107065-FBDF698F39D740B1B456829489E23DEA</td>\n",
              "      <td>AT</td>\n",
              "      <td>692.9</td>\n",
              "      <td>2</td>\n",
              "      <td>ADALBERTO BACKES</td>\n",
              "      <td>ADALBERTO BACKES</td>\n",
              "      <td>Fazenda São Matheus</td>\n",
              "      <td>2017</td>\n",
              "      <td>492767510-68</td>\n",
              "      <td>SOJA</td>\n",
              "      <td>MT</td>\n",
              "      <td>BE128</td>\n",
              "      <td>POLYGON ((-52.15425 -12.44207, -52.15674 -12.4...</td>\n",
              "    </tr>\n",
              "    <tr>\n",
              "      <th>2</th>\n",
              "      <td>MT-5107065-C5547CB906EA42C8905C6000B9F78836</td>\n",
              "      <td>AT</td>\n",
              "      <td>484.1</td>\n",
              "      <td>3</td>\n",
              "      <td>Adalberto Backes</td>\n",
              "      <td>ADALBERTO BACKES</td>\n",
              "      <td>Fazenda Santo Antônio - Lotes 116 e 116 A</td>\n",
              "      <td>2017</td>\n",
              "      <td>492767510-68</td>\n",
              "      <td>SOJA</td>\n",
              "      <td>MT</td>\n",
              "      <td>BE128</td>\n",
              "      <td>POLYGON ((-52.09464 -12.39115, -52.09523 -12.3...</td>\n",
              "    </tr>\n",
              "  </tbody>\n",
              "</table>\n",
              "</div>\n",
              "      <button class=\"colab-df-convert\" onclick=\"convertToInteractive('df-e063932d-9392-4da6-8b55-812e47a97059')\"\n",
              "              title=\"Convert this dataframe to an interactive table.\"\n",
              "              style=\"display:none;\">\n",
              "\n",
              "  <svg xmlns=\"http://www.w3.org/2000/svg\" height=\"24px\"viewBox=\"0 0 24 24\"\n",
              "       width=\"24px\">\n",
              "    <path d=\"M0 0h24v24H0V0z\" fill=\"none\"/>\n",
              "    <path d=\"M18.56 5.44l.94 2.06.94-2.06 2.06-.94-2.06-.94-.94-2.06-.94 2.06-2.06.94zm-11 1L8.5 8.5l.94-2.06 2.06-.94-2.06-.94L8.5 2.5l-.94 2.06-2.06.94zm10 10l.94 2.06.94-2.06 2.06-.94-2.06-.94-.94-2.06-.94 2.06-2.06.94z\"/><path d=\"M17.41 7.96l-1.37-1.37c-.4-.4-.92-.59-1.43-.59-.52 0-1.04.2-1.43.59L10.3 9.45l-7.72 7.72c-.78.78-.78 2.05 0 2.83L4 21.41c.39.39.9.59 1.41.59.51 0 1.02-.2 1.41-.59l7.78-7.78 2.81-2.81c.8-.78.8-2.07 0-2.86zM5.41 20L4 18.59l7.72-7.72 1.47 1.35L5.41 20z\"/>\n",
              "  </svg>\n",
              "      </button>\n",
              "\n",
              "\n",
              "\n",
              "    <div id=\"df-90a00953-d85f-4a06-9dc3-2328d665b4ae\">\n",
              "      <button class=\"colab-df-quickchart\" onclick=\"quickchart('df-90a00953-d85f-4a06-9dc3-2328d665b4ae')\"\n",
              "              title=\"Suggest charts.\"\n",
              "              style=\"display:none;\">\n",
              "\n",
              "<svg xmlns=\"http://www.w3.org/2000/svg\" height=\"24px\"viewBox=\"0 0 24 24\"\n",
              "     width=\"24px\">\n",
              "    <g>\n",
              "        <path d=\"M19 3H5c-1.1 0-2 .9-2 2v14c0 1.1.9 2 2 2h14c1.1 0 2-.9 2-2V5c0-1.1-.9-2-2-2zM9 17H7v-7h2v7zm4 0h-2V7h2v10zm4 0h-2v-4h2v4z\"/>\n",
              "    </g>\n",
              "</svg>\n",
              "      </button>\n",
              "    </div>\n",
              "\n",
              "<style>\n",
              "  .colab-df-quickchart {\n",
              "    background-color: #E8F0FE;\n",
              "    border: none;\n",
              "    border-radius: 50%;\n",
              "    cursor: pointer;\n",
              "    display: none;\n",
              "    fill: #1967D2;\n",
              "    height: 32px;\n",
              "    padding: 0 0 0 0;\n",
              "    width: 32px;\n",
              "  }\n",
              "\n",
              "  .colab-df-quickchart:hover {\n",
              "    background-color: #E2EBFA;\n",
              "    box-shadow: 0px 1px 2px rgba(60, 64, 67, 0.3), 0px 1px 3px 1px rgba(60, 64, 67, 0.15);\n",
              "    fill: #174EA6;\n",
              "  }\n",
              "\n",
              "  [theme=dark] .colab-df-quickchart {\n",
              "    background-color: #3B4455;\n",
              "    fill: #D2E3FC;\n",
              "  }\n",
              "\n",
              "  [theme=dark] .colab-df-quickchart:hover {\n",
              "    background-color: #434B5C;\n",
              "    box-shadow: 0px 1px 3px 1px rgba(0, 0, 0, 0.15);\n",
              "    filter: drop-shadow(0px 1px 2px rgba(0, 0, 0, 0.3));\n",
              "    fill: #FFFFFF;\n",
              "  }\n",
              "</style>\n",
              "\n",
              "    <script>\n",
              "      async function quickchart(key) {\n",
              "        const containerElement = document.querySelector('#' + key);\n",
              "        const charts = await google.colab.kernel.invokeFunction(\n",
              "            'suggestCharts', [key], {});\n",
              "      }\n",
              "    </script>\n",
              "\n",
              "      <script>\n",
              "\n",
              "function displayQuickchartButton(domScope) {\n",
              "  let quickchartButtonEl =\n",
              "    domScope.querySelector('#df-90a00953-d85f-4a06-9dc3-2328d665b4ae button.colab-df-quickchart');\n",
              "  quickchartButtonEl.style.display =\n",
              "    google.colab.kernel.accessAllowed ? 'block' : 'none';\n",
              "}\n",
              "\n",
              "        displayQuickchartButton(document);\n",
              "      </script>\n",
              "      <style>\n",
              "    .colab-df-container {\n",
              "      display:flex;\n",
              "      flex-wrap:wrap;\n",
              "      gap: 12px;\n",
              "    }\n",
              "\n",
              "    .colab-df-convert {\n",
              "      background-color: #E8F0FE;\n",
              "      border: none;\n",
              "      border-radius: 50%;\n",
              "      cursor: pointer;\n",
              "      display: none;\n",
              "      fill: #1967D2;\n",
              "      height: 32px;\n",
              "      padding: 0 0 0 0;\n",
              "      width: 32px;\n",
              "    }\n",
              "\n",
              "    .colab-df-convert:hover {\n",
              "      background-color: #E2EBFA;\n",
              "      box-shadow: 0px 1px 2px rgba(60, 64, 67, 0.3), 0px 1px 3px 1px rgba(60, 64, 67, 0.15);\n",
              "      fill: #174EA6;\n",
              "    }\n",
              "\n",
              "    [theme=dark] .colab-df-convert {\n",
              "      background-color: #3B4455;\n",
              "      fill: #D2E3FC;\n",
              "    }\n",
              "\n",
              "    [theme=dark] .colab-df-convert:hover {\n",
              "      background-color: #434B5C;\n",
              "      box-shadow: 0px 1px 3px 1px rgba(0, 0, 0, 0.15);\n",
              "      filter: drop-shadow(0px 1px 2px rgba(0, 0, 0, 0.3));\n",
              "      fill: #FFFFFF;\n",
              "    }\n",
              "  </style>\n",
              "\n",
              "      <script>\n",
              "        const buttonEl =\n",
              "          document.querySelector('#df-e063932d-9392-4da6-8b55-812e47a97059 button.colab-df-convert');\n",
              "        buttonEl.style.display =\n",
              "          google.colab.kernel.accessAllowed ? 'block' : 'none';\n",
              "\n",
              "        async function convertToInteractive(key) {\n",
              "          const element = document.querySelector('#df-e063932d-9392-4da6-8b55-812e47a97059');\n",
              "          const dataTable =\n",
              "            await google.colab.kernel.invokeFunction('convertToInteractive',\n",
              "                                                     [key], {});\n",
              "          if (!dataTable) return;\n",
              "\n",
              "          const docLinkHtml = 'Like what you see? Visit the ' +\n",
              "            '<a target=\"_blank\" href=https://colab.research.google.com/notebooks/data_table.ipynb>data table notebook</a>'\n",
              "            + ' to learn more about interactive tables.';\n",
              "          element.innerHTML = '';\n",
              "          dataTable['output_type'] = 'display_data';\n",
              "          await google.colab.output.renderOutput(dataTable, element);\n",
              "          const docLink = document.createElement('div');\n",
              "          docLink.innerHTML = docLinkHtml;\n",
              "          element.appendChild(docLink);\n",
              "        }\n",
              "      </script>\n",
              "    </div>\n",
              "  </div>\n"
            ]
          },
          "metadata": {},
          "execution_count": 143
        }
      ]
    },
    {
      "cell_type": "code",
      "source": [
        "# Seleciona apenas as feições com geometrias não nulas\n",
        "#df_bs_not_null=dffinal_bs[dffinal_bs['geometry'].notna()]\n",
        "\n",
        "\n",
        "###### non-null\n",
        "###### gdf_not_null = gdf[gdf['geometry'].notna()]\n",
        "######gdf_not_null = gdf.dropna(subset=['geometry'])"
      ],
      "metadata": {
        "id": "iX2POn9B18X5"
      },
      "execution_count": 66,
      "outputs": []
    },
    {
      "cell_type": "code",
      "source": [
        "dffinal_bs.columns"
      ],
      "metadata": {
        "colab": {
          "base_uri": "https://localhost:8080/"
        },
        "outputId": "1a8def0f-e906-44ea-fe59-bd7aad56f9c8",
        "id": "vux_AOOfvNEJ"
      },
      "execution_count": 125,
      "outputs": [
        {
          "output_type": "execute_result",
          "data": {
            "text/plain": [
              "Index(['Controle', 'Nome do Fornecedor', 'Alteração- Produtor',\n",
              "       'Nome da Fazenda', 'Data Analise de Risco', 'CNPJ/CPF', 'Unnamed: 6',\n",
              "       'Endereço / Localização (CAR)', 'UF', 'Produto', 'Área Cultivada (ha)',\n",
              "       'Quantidade de soja Potencial (t/ano)', 'Comentarios', 'codigo', 'uf_x',\n",
              "       'situacao', 'condicao', 'uf_y', 'nome_munic', 'id_municip',\n",
              "       'modulo_fis', 'tipo', 'area_ha', 'cep', 'nome', 'geometry'],\n",
              "      dtype='object')"
            ]
          },
          "metadata": {},
          "execution_count": 125
        }
      ]
    },
    {
      "cell_type": "code",
      "source": [
        "#dffinal_bs.shape"
      ],
      "metadata": {
        "colab": {
          "base_uri": "https://localhost:8080/"
        },
        "id": "7-ckfb7N5MYd",
        "outputId": "fbae73cf-9e7c-42ba-f3f2-1a43ca5c2d73"
      },
      "execution_count": 94,
      "outputs": [
        {
          "output_type": "execute_result",
          "data": {
            "text/plain": [
              "(1024, 26)"
            ]
          },
          "metadata": {},
          "execution_count": 94
        }
      ]
    },
    {
      "cell_type": "code",
      "execution_count": 145,
      "metadata": {
        "id": "VNDVLAcTvNEJ"
      },
      "outputs": [],
      "source": [
        "#seleciona colunas específicas\n",
        "dffinal_bs = dffinal_bs[['codigo','situacao','area_ha','Controle','Nome do Fornecedor',\n",
        "                         'Data Analise de Risco','CNPJ/CPF','Produto','uf_x','nome','geometry']]\n",
        "#renomeia a coluna\n",
        "dffinal_bs = dffinal_bs.rename(columns={'uf':'uf'})"
      ]
    },
    {
      "cell_type": "code",
      "source": [
        "dffinal_bs.columns"
      ],
      "metadata": {
        "colab": {
          "base_uri": "https://localhost:8080/"
        },
        "id": "06mVKNrRFeL5",
        "outputId": "f3c640f2-e24b-4f12-955b-920cb1ebd6e1"
      },
      "execution_count": 152,
      "outputs": [
        {
          "output_type": "execute_result",
          "data": {
            "text/plain": [
              "Index(['codigo', 'situacao', 'area_ha', 'Controle', 'Nome do Fornecedor',\n",
              "       'Alteração- Produtor', 'Data Analise de Risco', 'CNPJ/CPF', 'Produto',\n",
              "       'uf_x', 'nome', 'geometry'],\n",
              "      dtype='object')"
            ]
          },
          "metadata": {},
          "execution_count": 152
        }
      ]
    },
    {
      "cell_type": "code",
      "source": [],
      "metadata": {
        "id": "iUWpRHI3Fgml"
      },
      "execution_count": null,
      "outputs": []
    },
    {
      "cell_type": "code",
      "source": [
        "dffinal_bs.head(3)"
      ],
      "metadata": {
        "colab": {
          "base_uri": "https://localhost:8080/",
          "height": 291
        },
        "outputId": "4ec31134-095e-450f-a0d8-701f7baf0222",
        "id": "mKsndUuTvNEJ"
      },
      "execution_count": 146,
      "outputs": [
        {
          "output_type": "execute_result",
          "data": {
            "text/plain": [
              "                                        codigo situacao  area_ha  Controle  \\\n",
              "0  MT-5106224-39BA926191FE48A98E566C62F16D926C       AT   1340.4         1   \n",
              "1  MT-5107065-FBDF698F39D740B1B456829489E23DEA       AT    692.9         2   \n",
              "2  MT-5107065-C5547CB906EA42C8905C6000B9F78836       AT    484.1         3   \n",
              "\n",
              "  Nome do Fornecedor Alteração- Produtor  Data Analise de Risco      CNPJ/CPF  \\\n",
              "0  ADAIR VENDRUSCOLO   ADAIR VENDRUSCOLO                   2016  142420280-91   \n",
              "1   ADALBERTO BACKES    ADALBERTO BACKES                   2017  492767510-68   \n",
              "2   Adalberto Backes    ADALBERTO BACKES                   2017  492767510-68   \n",
              "\n",
              "  Produto uf_x   nome                                           geometry  \n",
              "0    SOJA   MT  BG118  POLYGON ((-56.40307 -13.27481, -56.40306 -13.2...  \n",
              "1    SOJA   MT  BE128  POLYGON ((-52.15425 -12.44207, -52.15674 -12.4...  \n",
              "2    SOJA   MT  BE128  POLYGON ((-52.09464 -12.39115, -52.09523 -12.3...  "
            ],
            "text/html": [
              "\n",
              "\n",
              "  <div id=\"df-a7f0acc4-3998-4c0a-9334-78ce7e8e3a4c\">\n",
              "    <div class=\"colab-df-container\">\n",
              "      <div>\n",
              "<style scoped>\n",
              "    .dataframe tbody tr th:only-of-type {\n",
              "        vertical-align: middle;\n",
              "    }\n",
              "\n",
              "    .dataframe tbody tr th {\n",
              "        vertical-align: top;\n",
              "    }\n",
              "\n",
              "    .dataframe thead th {\n",
              "        text-align: right;\n",
              "    }\n",
              "</style>\n",
              "<table border=\"1\" class=\"dataframe\">\n",
              "  <thead>\n",
              "    <tr style=\"text-align: right;\">\n",
              "      <th></th>\n",
              "      <th>codigo</th>\n",
              "      <th>situacao</th>\n",
              "      <th>area_ha</th>\n",
              "      <th>Controle</th>\n",
              "      <th>Nome do Fornecedor</th>\n",
              "      <th>Alteração- Produtor</th>\n",
              "      <th>Data Analise de Risco</th>\n",
              "      <th>CNPJ/CPF</th>\n",
              "      <th>Produto</th>\n",
              "      <th>uf_x</th>\n",
              "      <th>nome</th>\n",
              "      <th>geometry</th>\n",
              "    </tr>\n",
              "  </thead>\n",
              "  <tbody>\n",
              "    <tr>\n",
              "      <th>0</th>\n",
              "      <td>MT-5106224-39BA926191FE48A98E566C62F16D926C</td>\n",
              "      <td>AT</td>\n",
              "      <td>1340.4</td>\n",
              "      <td>1</td>\n",
              "      <td>ADAIR VENDRUSCOLO</td>\n",
              "      <td>ADAIR VENDRUSCOLO</td>\n",
              "      <td>2016</td>\n",
              "      <td>142420280-91</td>\n",
              "      <td>SOJA</td>\n",
              "      <td>MT</td>\n",
              "      <td>BG118</td>\n",
              "      <td>POLYGON ((-56.40307 -13.27481, -56.40306 -13.2...</td>\n",
              "    </tr>\n",
              "    <tr>\n",
              "      <th>1</th>\n",
              "      <td>MT-5107065-FBDF698F39D740B1B456829489E23DEA</td>\n",
              "      <td>AT</td>\n",
              "      <td>692.9</td>\n",
              "      <td>2</td>\n",
              "      <td>ADALBERTO BACKES</td>\n",
              "      <td>ADALBERTO BACKES</td>\n",
              "      <td>2017</td>\n",
              "      <td>492767510-68</td>\n",
              "      <td>SOJA</td>\n",
              "      <td>MT</td>\n",
              "      <td>BE128</td>\n",
              "      <td>POLYGON ((-52.15425 -12.44207, -52.15674 -12.4...</td>\n",
              "    </tr>\n",
              "    <tr>\n",
              "      <th>2</th>\n",
              "      <td>MT-5107065-C5547CB906EA42C8905C6000B9F78836</td>\n",
              "      <td>AT</td>\n",
              "      <td>484.1</td>\n",
              "      <td>3</td>\n",
              "      <td>Adalberto Backes</td>\n",
              "      <td>ADALBERTO BACKES</td>\n",
              "      <td>2017</td>\n",
              "      <td>492767510-68</td>\n",
              "      <td>SOJA</td>\n",
              "      <td>MT</td>\n",
              "      <td>BE128</td>\n",
              "      <td>POLYGON ((-52.09464 -12.39115, -52.09523 -12.3...</td>\n",
              "    </tr>\n",
              "  </tbody>\n",
              "</table>\n",
              "</div>\n",
              "      <button class=\"colab-df-convert\" onclick=\"convertToInteractive('df-a7f0acc4-3998-4c0a-9334-78ce7e8e3a4c')\"\n",
              "              title=\"Convert this dataframe to an interactive table.\"\n",
              "              style=\"display:none;\">\n",
              "\n",
              "  <svg xmlns=\"http://www.w3.org/2000/svg\" height=\"24px\"viewBox=\"0 0 24 24\"\n",
              "       width=\"24px\">\n",
              "    <path d=\"M0 0h24v24H0V0z\" fill=\"none\"/>\n",
              "    <path d=\"M18.56 5.44l.94 2.06.94-2.06 2.06-.94-2.06-.94-.94-2.06-.94 2.06-2.06.94zm-11 1L8.5 8.5l.94-2.06 2.06-.94-2.06-.94L8.5 2.5l-.94 2.06-2.06.94zm10 10l.94 2.06.94-2.06 2.06-.94-2.06-.94-.94-2.06-.94 2.06-2.06.94z\"/><path d=\"M17.41 7.96l-1.37-1.37c-.4-.4-.92-.59-1.43-.59-.52 0-1.04.2-1.43.59L10.3 9.45l-7.72 7.72c-.78.78-.78 2.05 0 2.83L4 21.41c.39.39.9.59 1.41.59.51 0 1.02-.2 1.41-.59l7.78-7.78 2.81-2.81c.8-.78.8-2.07 0-2.86zM5.41 20L4 18.59l7.72-7.72 1.47 1.35L5.41 20z\"/>\n",
              "  </svg>\n",
              "      </button>\n",
              "\n",
              "\n",
              "\n",
              "    <div id=\"df-db3ebbb6-a78c-401b-bfad-c3a8642a9f82\">\n",
              "      <button class=\"colab-df-quickchart\" onclick=\"quickchart('df-db3ebbb6-a78c-401b-bfad-c3a8642a9f82')\"\n",
              "              title=\"Suggest charts.\"\n",
              "              style=\"display:none;\">\n",
              "\n",
              "<svg xmlns=\"http://www.w3.org/2000/svg\" height=\"24px\"viewBox=\"0 0 24 24\"\n",
              "     width=\"24px\">\n",
              "    <g>\n",
              "        <path d=\"M19 3H5c-1.1 0-2 .9-2 2v14c0 1.1.9 2 2 2h14c1.1 0 2-.9 2-2V5c0-1.1-.9-2-2-2zM9 17H7v-7h2v7zm4 0h-2V7h2v10zm4 0h-2v-4h2v4z\"/>\n",
              "    </g>\n",
              "</svg>\n",
              "      </button>\n",
              "    </div>\n",
              "\n",
              "<style>\n",
              "  .colab-df-quickchart {\n",
              "    background-color: #E8F0FE;\n",
              "    border: none;\n",
              "    border-radius: 50%;\n",
              "    cursor: pointer;\n",
              "    display: none;\n",
              "    fill: #1967D2;\n",
              "    height: 32px;\n",
              "    padding: 0 0 0 0;\n",
              "    width: 32px;\n",
              "  }\n",
              "\n",
              "  .colab-df-quickchart:hover {\n",
              "    background-color: #E2EBFA;\n",
              "    box-shadow: 0px 1px 2px rgba(60, 64, 67, 0.3), 0px 1px 3px 1px rgba(60, 64, 67, 0.15);\n",
              "    fill: #174EA6;\n",
              "  }\n",
              "\n",
              "  [theme=dark] .colab-df-quickchart {\n",
              "    background-color: #3B4455;\n",
              "    fill: #D2E3FC;\n",
              "  }\n",
              "\n",
              "  [theme=dark] .colab-df-quickchart:hover {\n",
              "    background-color: #434B5C;\n",
              "    box-shadow: 0px 1px 3px 1px rgba(0, 0, 0, 0.15);\n",
              "    filter: drop-shadow(0px 1px 2px rgba(0, 0, 0, 0.3));\n",
              "    fill: #FFFFFF;\n",
              "  }\n",
              "</style>\n",
              "\n",
              "    <script>\n",
              "      async function quickchart(key) {\n",
              "        const containerElement = document.querySelector('#' + key);\n",
              "        const charts = await google.colab.kernel.invokeFunction(\n",
              "            'suggestCharts', [key], {});\n",
              "      }\n",
              "    </script>\n",
              "\n",
              "      <script>\n",
              "\n",
              "function displayQuickchartButton(domScope) {\n",
              "  let quickchartButtonEl =\n",
              "    domScope.querySelector('#df-db3ebbb6-a78c-401b-bfad-c3a8642a9f82 button.colab-df-quickchart');\n",
              "  quickchartButtonEl.style.display =\n",
              "    google.colab.kernel.accessAllowed ? 'block' : 'none';\n",
              "}\n",
              "\n",
              "        displayQuickchartButton(document);\n",
              "      </script>\n",
              "      <style>\n",
              "    .colab-df-container {\n",
              "      display:flex;\n",
              "      flex-wrap:wrap;\n",
              "      gap: 12px;\n",
              "    }\n",
              "\n",
              "    .colab-df-convert {\n",
              "      background-color: #E8F0FE;\n",
              "      border: none;\n",
              "      border-radius: 50%;\n",
              "      cursor: pointer;\n",
              "      display: none;\n",
              "      fill: #1967D2;\n",
              "      height: 32px;\n",
              "      padding: 0 0 0 0;\n",
              "      width: 32px;\n",
              "    }\n",
              "\n",
              "    .colab-df-convert:hover {\n",
              "      background-color: #E2EBFA;\n",
              "      box-shadow: 0px 1px 2px rgba(60, 64, 67, 0.3), 0px 1px 3px 1px rgba(60, 64, 67, 0.15);\n",
              "      fill: #174EA6;\n",
              "    }\n",
              "\n",
              "    [theme=dark] .colab-df-convert {\n",
              "      background-color: #3B4455;\n",
              "      fill: #D2E3FC;\n",
              "    }\n",
              "\n",
              "    [theme=dark] .colab-df-convert:hover {\n",
              "      background-color: #434B5C;\n",
              "      box-shadow: 0px 1px 3px 1px rgba(0, 0, 0, 0.15);\n",
              "      filter: drop-shadow(0px 1px 2px rgba(0, 0, 0, 0.3));\n",
              "      fill: #FFFFFF;\n",
              "    }\n",
              "  </style>\n",
              "\n",
              "      <script>\n",
              "        const buttonEl =\n",
              "          document.querySelector('#df-a7f0acc4-3998-4c0a-9334-78ce7e8e3a4c button.colab-df-convert');\n",
              "        buttonEl.style.display =\n",
              "          google.colab.kernel.accessAllowed ? 'block' : 'none';\n",
              "\n",
              "        async function convertToInteractive(key) {\n",
              "          const element = document.querySelector('#df-a7f0acc4-3998-4c0a-9334-78ce7e8e3a4c');\n",
              "          const dataTable =\n",
              "            await google.colab.kernel.invokeFunction('convertToInteractive',\n",
              "                                                     [key], {});\n",
              "          if (!dataTable) return;\n",
              "\n",
              "          const docLinkHtml = 'Like what you see? Visit the ' +\n",
              "            '<a target=\"_blank\" href=https://colab.research.google.com/notebooks/data_table.ipynb>data table notebook</a>'\n",
              "            + ' to learn more about interactive tables.';\n",
              "          element.innerHTML = '';\n",
              "          dataTable['output_type'] = 'display_data';\n",
              "          await google.colab.output.renderOutput(dataTable, element);\n",
              "          const docLink = document.createElement('div');\n",
              "          docLink.innerHTML = docLinkHtml;\n",
              "          element.appendChild(docLink);\n",
              "        }\n",
              "      </script>\n",
              "    </div>\n",
              "  </div>\n"
            ]
          },
          "metadata": {},
          "execution_count": 146
        }
      ]
    },
    {
      "cell_type": "code",
      "execution_count": 147,
      "metadata": {
        "id": "NXIYGzjMvNEb"
      },
      "outputs": [],
      "source": [
        "#transforma o dataframe em geodataframe\n",
        "gdffinal_bs = gpd.GeoDataFrame(dffinal_bs,geometry='geometry',crs='epsg:4674')"
      ]
    },
    {
      "cell_type": "code",
      "source": [
        "# Deixar todas as colunas em string\n",
        "for coluna in list(gdffinal_bs.columns):\n",
        "  if coluna != 'geometry':\n",
        "    gdffinal_bs[coluna]=gdffinal_bs[coluna].astype('str')"
      ],
      "metadata": {
        "id": "kmSZCRRME5Zl"
      },
      "execution_count": 153,
      "outputs": []
    },
    {
      "cell_type": "code",
      "source": [
        "'''\n",
        "tipos_dados = gdffinal_bs.dtypes\n",
        "if 'object' in tipos_dados.values:\n",
        "    bytes_columns = tipos_dados[tipos_dados == 'object'].index\n",
        "    for col in bytes_columns:\n",
        "        count= 0\n",
        "        for dado in gdffinal_bs[col]:\n",
        "            if str(type(dado)) == \"<class 'bytes'>\":\n",
        "                #try:\n",
        "                    print(col)\n",
        "                    print(count)\n",
        "                    print(dado)\n",
        "                #except:\n",
        "                    #pass\n",
        "            count+=1\n",
        "'''"
      ],
      "metadata": {
        "id": "xv5w71GcECmK"
      },
      "execution_count": 149,
      "outputs": []
    },
    {
      "cell_type": "code",
      "source": [
        "gdffinal_bs.shape"
      ],
      "metadata": {
        "colab": {
          "base_uri": "https://localhost:8080/"
        },
        "outputId": "b77e7da1-4326-476c-f615-fd3f3024997d",
        "id": "L1I_4oalvNEb"
      },
      "execution_count": 150,
      "outputs": [
        {
          "output_type": "execute_result",
          "data": {
            "text/plain": [
              "(1078, 12)"
            ]
          },
          "metadata": {},
          "execution_count": 150
        }
      ]
    },
    {
      "cell_type": "code",
      "execution_count": 155,
      "metadata": {
        "colab": {
          "base_uri": "https://localhost:8080/",
          "height": 650
        },
        "outputId": "9c007a64-1b94-4d9d-e244-6cf6ccc17e3d",
        "id": "RSRHEqpjvNEb"
      },
      "outputs": [
        {
          "output_type": "stream",
          "name": "stderr",
          "text": [
            "<ipython-input-155-cc063acd8e0d>:1: UserWarning: Column names longer than 10 characters will be truncated when saved to ESRI Shapefile.\n",
            "  gdffinal_bs.to_file('/content/drive/MyDrive/Colab Notebooks/PyGEO/Pratica/VEGA/Organizacao_Dados/Area_Plantada_Bunge/Cruzamento Planilha CAR/Base2BSvs.shp')\n",
            "WARNING:fiona._env:Normalized/laundered field name: 'Nome do Fornecedor' to 'Nome do Fo'\n"
          ]
        },
        {
          "output_type": "error",
          "ename": "UnicodeDecodeError",
          "evalue": "ignored",
          "traceback": [
            "\u001b[0;31m---------------------------------------------------------------------------\u001b[0m",
            "\u001b[0;31mUnicodeDecodeError\u001b[0m                        Traceback (most recent call last)",
            "\u001b[0;31mUnicodeDecodeError\u001b[0m: 'utf-8' codec can't decode byte 0xe7 in position 67: invalid continuation byte"
          ]
        },
        {
          "output_type": "stream",
          "name": "stderr",
          "text": [
            "Exception ignored in: 'fiona._env.log_error'\n",
            "Traceback (most recent call last):\n",
            "  File \"/usr/local/lib/python3.10/dist-packages/fiona/collection.py\", line 246, in __init__\n",
            "    self.session.start(self, **kwargs)\n",
            "UnicodeDecodeError: 'utf-8' codec can't decode byte 0xe7 in position 67: invalid continuation byte\n",
            "WARNING:fiona._env:Normalized/laundered field name: 'Data Analise de Risco' to 'Data Anali'\n"
          ]
        },
        {
          "output_type": "error",
          "ename": "UnicodeDecodeError",
          "evalue": "ignored",
          "traceback": [
            "\u001b[0;31m---------------------------------------------------------------------------\u001b[0m",
            "\u001b[0;31mUnicodeDecodeError\u001b[0m                        Traceback (most recent call last)",
            "\u001b[0;32m<ipython-input-155-cc063acd8e0d>\u001b[0m in \u001b[0;36m<cell line: 1>\u001b[0;34m()\u001b[0m\n\u001b[0;32m----> 1\u001b[0;31m \u001b[0mgdffinal_bs\u001b[0m\u001b[0;34m.\u001b[0m\u001b[0mto_file\u001b[0m\u001b[0;34m(\u001b[0m\u001b[0;34m'/content/drive/MyDrive/Colab Notebooks/PyGEO/Pratica/VEGA/Organizacao_Dados/Area_Plantada_Bunge/Cruzamento Planilha CAR/Base2BSvs.shp'\u001b[0m\u001b[0;34m)\u001b[0m\u001b[0;34m\u001b[0m\u001b[0;34m\u001b[0m\u001b[0m\n\u001b[0m",
            "\u001b[0;32m/usr/local/lib/python3.10/dist-packages/geopandas/geodataframe.py\u001b[0m in \u001b[0;36mto_file\u001b[0;34m(self, filename, driver, schema, index, **kwargs)\u001b[0m\n\u001b[1;32m   1261\u001b[0m         \u001b[0;32mfrom\u001b[0m \u001b[0mgeopandas\u001b[0m\u001b[0;34m.\u001b[0m\u001b[0mio\u001b[0m\u001b[0;34m.\u001b[0m\u001b[0mfile\u001b[0m \u001b[0;32mimport\u001b[0m \u001b[0m_to_file\u001b[0m\u001b[0;34m\u001b[0m\u001b[0;34m\u001b[0m\u001b[0m\n\u001b[1;32m   1262\u001b[0m \u001b[0;34m\u001b[0m\u001b[0m\n\u001b[0;32m-> 1263\u001b[0;31m         \u001b[0m_to_file\u001b[0m\u001b[0;34m(\u001b[0m\u001b[0mself\u001b[0m\u001b[0;34m,\u001b[0m \u001b[0mfilename\u001b[0m\u001b[0;34m,\u001b[0m \u001b[0mdriver\u001b[0m\u001b[0;34m,\u001b[0m \u001b[0mschema\u001b[0m\u001b[0;34m,\u001b[0m \u001b[0mindex\u001b[0m\u001b[0;34m,\u001b[0m \u001b[0;34m**\u001b[0m\u001b[0mkwargs\u001b[0m\u001b[0;34m)\u001b[0m\u001b[0;34m\u001b[0m\u001b[0;34m\u001b[0m\u001b[0m\n\u001b[0m\u001b[1;32m   1264\u001b[0m \u001b[0;34m\u001b[0m\u001b[0m\n\u001b[1;32m   1265\u001b[0m     \u001b[0;32mdef\u001b[0m \u001b[0mset_crs\u001b[0m\u001b[0;34m(\u001b[0m\u001b[0mself\u001b[0m\u001b[0;34m,\u001b[0m \u001b[0mcrs\u001b[0m\u001b[0;34m=\u001b[0m\u001b[0;32mNone\u001b[0m\u001b[0;34m,\u001b[0m \u001b[0mepsg\u001b[0m\u001b[0;34m=\u001b[0m\u001b[0;32mNone\u001b[0m\u001b[0;34m,\u001b[0m \u001b[0minplace\u001b[0m\u001b[0;34m=\u001b[0m\u001b[0;32mFalse\u001b[0m\u001b[0;34m,\u001b[0m \u001b[0mallow_override\u001b[0m\u001b[0;34m=\u001b[0m\u001b[0;32mFalse\u001b[0m\u001b[0;34m)\u001b[0m\u001b[0;34m:\u001b[0m\u001b[0;34m\u001b[0m\u001b[0;34m\u001b[0m\u001b[0m\n",
            "\u001b[0;32m/usr/local/lib/python3.10/dist-packages/geopandas/io/file.py\u001b[0m in \u001b[0;36m_to_file\u001b[0;34m(df, filename, driver, schema, index, mode, crs, engine, **kwargs)\u001b[0m\n\u001b[1;32m    570\u001b[0m \u001b[0;34m\u001b[0m\u001b[0m\n\u001b[1;32m    571\u001b[0m     \u001b[0;32mif\u001b[0m \u001b[0mengine\u001b[0m \u001b[0;34m==\u001b[0m \u001b[0;34m\"fiona\"\u001b[0m\u001b[0;34m:\u001b[0m\u001b[0;34m\u001b[0m\u001b[0;34m\u001b[0m\u001b[0m\n\u001b[0;32m--> 572\u001b[0;31m         \u001b[0m_to_file_fiona\u001b[0m\u001b[0;34m(\u001b[0m\u001b[0mdf\u001b[0m\u001b[0;34m,\u001b[0m \u001b[0mfilename\u001b[0m\u001b[0;34m,\u001b[0m \u001b[0mdriver\u001b[0m\u001b[0;34m,\u001b[0m \u001b[0mschema\u001b[0m\u001b[0;34m,\u001b[0m \u001b[0mcrs\u001b[0m\u001b[0;34m,\u001b[0m \u001b[0mmode\u001b[0m\u001b[0;34m,\u001b[0m \u001b[0;34m**\u001b[0m\u001b[0mkwargs\u001b[0m\u001b[0;34m)\u001b[0m\u001b[0;34m\u001b[0m\u001b[0;34m\u001b[0m\u001b[0m\n\u001b[0m\u001b[1;32m    573\u001b[0m     \u001b[0;32melif\u001b[0m \u001b[0mengine\u001b[0m \u001b[0;34m==\u001b[0m \u001b[0;34m\"pyogrio\"\u001b[0m\u001b[0;34m:\u001b[0m\u001b[0;34m\u001b[0m\u001b[0;34m\u001b[0m\u001b[0m\n\u001b[1;32m    574\u001b[0m         \u001b[0m_to_file_pyogrio\u001b[0m\u001b[0;34m(\u001b[0m\u001b[0mdf\u001b[0m\u001b[0;34m,\u001b[0m \u001b[0mfilename\u001b[0m\u001b[0;34m,\u001b[0m \u001b[0mdriver\u001b[0m\u001b[0;34m,\u001b[0m \u001b[0mschema\u001b[0m\u001b[0;34m,\u001b[0m \u001b[0mcrs\u001b[0m\u001b[0;34m,\u001b[0m \u001b[0mmode\u001b[0m\u001b[0;34m,\u001b[0m \u001b[0;34m**\u001b[0m\u001b[0mkwargs\u001b[0m\u001b[0;34m)\u001b[0m\u001b[0;34m\u001b[0m\u001b[0;34m\u001b[0m\u001b[0m\n",
            "\u001b[0;32m/usr/local/lib/python3.10/dist-packages/geopandas/io/file.py\u001b[0m in \u001b[0;36m_to_file_fiona\u001b[0;34m(df, filename, driver, schema, crs, mode, **kwargs)\u001b[0m\n\u001b[1;32m    596\u001b[0m         \u001b[0;32melif\u001b[0m \u001b[0mcrs\u001b[0m\u001b[0;34m:\u001b[0m\u001b[0;34m\u001b[0m\u001b[0;34m\u001b[0m\u001b[0m\n\u001b[1;32m    597\u001b[0m             \u001b[0mcrs_wkt\u001b[0m \u001b[0;34m=\u001b[0m \u001b[0mcrs\u001b[0m\u001b[0;34m.\u001b[0m\u001b[0mto_wkt\u001b[0m\u001b[0;34m(\u001b[0m\u001b[0;34m\"WKT1_GDAL\"\u001b[0m\u001b[0;34m)\u001b[0m\u001b[0;34m\u001b[0m\u001b[0;34m\u001b[0m\u001b[0m\n\u001b[0;32m--> 598\u001b[0;31m         with fiona.open(\n\u001b[0m\u001b[1;32m    599\u001b[0m             \u001b[0mfilename\u001b[0m\u001b[0;34m,\u001b[0m \u001b[0mmode\u001b[0m\u001b[0;34m=\u001b[0m\u001b[0mmode\u001b[0m\u001b[0;34m,\u001b[0m \u001b[0mdriver\u001b[0m\u001b[0;34m=\u001b[0m\u001b[0mdriver\u001b[0m\u001b[0;34m,\u001b[0m \u001b[0mcrs_wkt\u001b[0m\u001b[0;34m=\u001b[0m\u001b[0mcrs_wkt\u001b[0m\u001b[0;34m,\u001b[0m \u001b[0mschema\u001b[0m\u001b[0;34m=\u001b[0m\u001b[0mschema\u001b[0m\u001b[0;34m,\u001b[0m \u001b[0;34m**\u001b[0m\u001b[0mkwargs\u001b[0m\u001b[0;34m\u001b[0m\u001b[0;34m\u001b[0m\u001b[0m\n\u001b[1;32m    600\u001b[0m         ) as colxn:\n",
            "\u001b[0;32m/usr/local/lib/python3.10/dist-packages/fiona/env.py\u001b[0m in \u001b[0;36mwrapper\u001b[0;34m(*args, **kwds)\u001b[0m\n\u001b[1;32m    455\u001b[0m \u001b[0;34m\u001b[0m\u001b[0m\n\u001b[1;32m    456\u001b[0m         \u001b[0;32mwith\u001b[0m \u001b[0menv_ctor\u001b[0m\u001b[0;34m(\u001b[0m\u001b[0msession\u001b[0m\u001b[0;34m=\u001b[0m\u001b[0msession\u001b[0m\u001b[0;34m)\u001b[0m\u001b[0;34m:\u001b[0m\u001b[0;34m\u001b[0m\u001b[0;34m\u001b[0m\u001b[0m\n\u001b[0;32m--> 457\u001b[0;31m             \u001b[0;32mreturn\u001b[0m \u001b[0mf\u001b[0m\u001b[0;34m(\u001b[0m\u001b[0;34m*\u001b[0m\u001b[0margs\u001b[0m\u001b[0;34m,\u001b[0m \u001b[0;34m**\u001b[0m\u001b[0mkwds\u001b[0m\u001b[0;34m)\u001b[0m\u001b[0;34m\u001b[0m\u001b[0;34m\u001b[0m\u001b[0m\n\u001b[0m\u001b[1;32m    458\u001b[0m \u001b[0;34m\u001b[0m\u001b[0m\n\u001b[1;32m    459\u001b[0m     \u001b[0;32mreturn\u001b[0m \u001b[0mwrapper\u001b[0m\u001b[0;34m\u001b[0m\u001b[0;34m\u001b[0m\u001b[0m\n",
            "\u001b[0;32m/usr/local/lib/python3.10/dist-packages/fiona/__init__.py\u001b[0m in \u001b[0;36mopen\u001b[0;34m(fp, mode, driver, schema, crs, encoding, layer, vfs, enabled_drivers, crs_wkt, allow_unsupported_drivers, **kwargs)\u001b[0m\n\u001b[1;32m    301\u001b[0m             )\n\u001b[1;32m    302\u001b[0m         \u001b[0;32melif\u001b[0m \u001b[0mmode\u001b[0m \u001b[0;34m==\u001b[0m \u001b[0;34m\"w\"\u001b[0m\u001b[0;34m:\u001b[0m\u001b[0;34m\u001b[0m\u001b[0;34m\u001b[0m\u001b[0m\n\u001b[0;32m--> 303\u001b[0;31m             colxn = Collection(\n\u001b[0m\u001b[1;32m    304\u001b[0m                 \u001b[0mpath\u001b[0m\u001b[0;34m,\u001b[0m\u001b[0;34m\u001b[0m\u001b[0;34m\u001b[0m\u001b[0m\n\u001b[1;32m    305\u001b[0m                 \u001b[0mmode\u001b[0m\u001b[0;34m,\u001b[0m\u001b[0;34m\u001b[0m\u001b[0;34m\u001b[0m\u001b[0m\n",
            "\u001b[0;32m/usr/local/lib/python3.10/dist-packages/fiona/collection.py\u001b[0m in \u001b[0;36m__init__\u001b[0;34m(self, path, mode, driver, schema, crs, encoding, layer, vsi, archive, enabled_drivers, crs_wkt, ignore_fields, ignore_geometry, include_fields, wkt_version, allow_unsupported_drivers, **kwargs)\u001b[0m\n\u001b[1;32m    244\u001b[0m             \u001b[0;32melif\u001b[0m \u001b[0mself\u001b[0m\u001b[0;34m.\u001b[0m\u001b[0mmode\u001b[0m \u001b[0;32min\u001b[0m \u001b[0;34m(\u001b[0m\u001b[0;34m\"a\"\u001b[0m\u001b[0;34m,\u001b[0m \u001b[0;34m\"w\"\u001b[0m\u001b[0;34m)\u001b[0m\u001b[0;34m:\u001b[0m\u001b[0;34m\u001b[0m\u001b[0;34m\u001b[0m\u001b[0m\n\u001b[1;32m    245\u001b[0m                 \u001b[0mself\u001b[0m\u001b[0;34m.\u001b[0m\u001b[0msession\u001b[0m \u001b[0;34m=\u001b[0m \u001b[0mWritingSession\u001b[0m\u001b[0;34m(\u001b[0m\u001b[0;34m)\u001b[0m\u001b[0;34m\u001b[0m\u001b[0;34m\u001b[0m\u001b[0m\n\u001b[0;32m--> 246\u001b[0;31m                 \u001b[0mself\u001b[0m\u001b[0;34m.\u001b[0m\u001b[0msession\u001b[0m\u001b[0;34m.\u001b[0m\u001b[0mstart\u001b[0m\u001b[0;34m(\u001b[0m\u001b[0mself\u001b[0m\u001b[0;34m,\u001b[0m \u001b[0;34m**\u001b[0m\u001b[0mkwargs\u001b[0m\u001b[0;34m)\u001b[0m\u001b[0;34m\u001b[0m\u001b[0;34m\u001b[0m\u001b[0m\n\u001b[0m\u001b[1;32m    247\u001b[0m         \u001b[0;32mexcept\u001b[0m \u001b[0mOSError\u001b[0m\u001b[0;34m:\u001b[0m\u001b[0;34m\u001b[0m\u001b[0;34m\u001b[0m\u001b[0m\n\u001b[1;32m    248\u001b[0m             \u001b[0mself\u001b[0m\u001b[0;34m.\u001b[0m\u001b[0msession\u001b[0m \u001b[0;34m=\u001b[0m \u001b[0;32mNone\u001b[0m\u001b[0;34m\u001b[0m\u001b[0;34m\u001b[0m\u001b[0m\n",
            "\u001b[0;32mfiona/ogrext.pyx\u001b[0m in \u001b[0;36mfiona.ogrext.WritingSession.start\u001b[0;34m()\u001b[0m\n",
            "\u001b[0;32mfiona/ogrext.pyx\u001b[0m in \u001b[0;36mfiona.ogrext.Session.get_schema\u001b[0;34m()\u001b[0m\n",
            "\u001b[0;31mUnicodeDecodeError\u001b[0m: 'utf-8' codec can't decode byte 0xe7 in position 6: invalid continuation byte"
          ]
        }
      ],
      "source": [
        "gdffinal_bs.to_file('/content/drive/MyDrive/Colab Notebooks/PyGEO/Pratica/VEGA/Organizacao_Dados/Area_Plantada_Bunge/Cruzamento Planilha CAR/Base2BSvs.shp')"
      ]
    },
    {
      "cell_type": "markdown",
      "source": [
        "#*Verificar se tem CAR's iguais*\n"
      ],
      "metadata": {
        "id": "H97NR8M3DS76"
      }
    },
    {
      "cell_type": "code",
      "source": [],
      "metadata": {
        "id": "FTfUfOM9DXyi"
      },
      "execution_count": null,
      "outputs": []
    }
  ],
  "metadata": {
    "language_info": {
      "name": "python"
    },
    "orig_nbformat": 4,
    "colab": {
      "provenance": [],
      "include_colab_link": true
    },
    "kernelspec": {
      "name": "python3",
      "display_name": "Python 3"
    }
  },
  "nbformat": 4,
  "nbformat_minor": 0
}