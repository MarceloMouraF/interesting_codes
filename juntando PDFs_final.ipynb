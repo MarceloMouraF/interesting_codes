{
 "cells": [
  {
   "cell_type": "code",
   "execution_count": null,
   "id": "3249c551",
   "metadata": {},
   "outputs": [],
   "source": [
    "# Se não tiver os complementos instale\n",
    "!pip install PyMuPDF --upgrade pip\n",
    "!pip install fitz\n",
    "!pip install os"
   ]
  },
  {
   "cell_type": "code",
   "execution_count": 7,
   "id": "11cb10dd",
   "metadata": {},
   "outputs": [
    {
     "name": "stdout",
     "output_type": "stream",
     "text": [
      "Diretório de destino criado\n",
      "Prosseguindo...\n",
      "Administrador: verificar existência de exceções\n"
     ]
    }
   ],
   "source": [
    "import os\n",
    "import fitz  # Esta é a biblioteca PyMuPDF (MuPDF)\n",
    "from glob import glob\n",
    "\n",
    "def concatenaEComprimePdf(caminho):\n",
    "    os.chdir(caminho)\n",
    "    arquivos = glob('*.pdf')\n",
    "    destino = r'concatenado\\NOME_PDF.pdf'\n",
    "\n",
    "    if not os.path.exists('concatenado'):\n",
    "        os.makedirs(r'.\\concatenado')\n",
    "        print('Diretório de destino criado\\nProsseguindo...')\n",
    "    else:\n",
    "        print('Diretório de destino já existente\\nProsseguindo...')\n",
    "\n",
    "    try:\n",
    "        pdf_document = fitz.open()\n",
    "        \n",
    "        for arquivo in arquivos:\n",
    "            pdf_document.insert_pdf(fitz.open(arquivo))\n",
    "\n",
    "        pdf_document.save(destino)\n",
    "        pdf_document.close()\n",
    "\n",
    "        # Comprimir o PDF final para reduzir o tamanho\n",
    "        pdf_document = fitz.open(destino)\n",
    "        pdf_document.save(destino, deflate=True)\n",
    "        pdf_document.close()\n",
    "\n",
    "        print(f'Arquivo gerado em:\\n{os.getcwd()}\\{destino}')\n",
    "    except Exception as exc:\n",
    "        print('Administrador: verificar existência de exceções')\n",
    "        return str(exc)\n",
    "\n",
    "def main():\n",
    "    caminho = r'CAMINHO_DA_PASTA_EM_QUE_ESTÃO_OS_PDFS'\n",
    "    response = concatenaEComprimePdf(caminho)\n",
    "\n",
    "main()"
   ]
  },
  {
   "cell_type": "code",
   "execution_count": null,
   "id": "755233dd",
   "metadata": {},
   "outputs": [],
   "source": []
  }
 ],
 "metadata": {
  "kernelspec": {
   "display_name": "Python 3 (ipykernel)",
   "language": "python",
   "name": "python3"
  },
  "language_info": {
   "codemirror_mode": {
    "name": "ipython",
    "version": 3
   },
   "file_extension": ".py",
   "mimetype": "text/x-python",
   "name": "python",
   "nbconvert_exporter": "python",
   "pygments_lexer": "ipython3",
   "version": "3.9.11"
  }
 },
 "nbformat": 4,
 "nbformat_minor": 5
}
