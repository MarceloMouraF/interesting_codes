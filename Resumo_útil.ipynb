{
  "nbformat": 4,
  "nbformat_minor": 0,
  "metadata": {
    "colab": {
      "provenance": [],
      "authorship_tag": "ABX9TyOtr3JGIZGT6WJLltcP7Gh3",
      "include_colab_link": true
    },
    "kernelspec": {
      "name": "python3",
      "display_name": "Python 3"
    },
    "language_info": {
      "name": "python"
    }
  },
  "cells": [
    {
      "cell_type": "markdown",
      "metadata": {
        "id": "view-in-github",
        "colab_type": "text"
      },
      "source": [
        "<a href=\"https://colab.research.google.com/github/MarceloMouraF/interesting_codes/blob/main/Resumo_%C3%BAtil.ipynb\" target=\"_parent\"><img src=\"https://colab.research.google.com/assets/colab-badge.svg\" alt=\"Open In Colab\"/></a>"
      ]
    },
    {
      "cell_type": "markdown",
      "source": [
        "### **Este é um resumo de algumas funções básicas do python no Google Colab**"
      ],
      "metadata": {
        "id": "qxZEPioGVeuC"
      }
    },
    {
      "cell_type": "markdown",
      "source": [
        "#*Importando arquivos no Google Colab*"
      ],
      "metadata": {
        "id": "l2f6C30rVpiw"
      }
    },
    {
      "cell_type": "code",
      "execution_count": 4,
      "metadata": {
        "colab": {
          "base_uri": "https://localhost:8080/",
          "height": 192
        },
        "id": "ISPir4V4VcNz",
        "outputId": "057dec4d-fb7f-4d6d-93bd-b73773a7eae2"
      },
      "outputs": [
        {
          "output_type": "stream",
          "name": "stdout",
          "text": [
            "Mounted at /content/drive\n"
          ]
        },
        {
          "output_type": "execute_result",
          "data": {
            "text/plain": [
              "                   Bar                                       Endereço\n",
              "0       Bar do Coronel  R. Francisco Rafael, 298, São José Dos Campos\n",
              "1    Snooker Music Bar         Av Andrômeda 3330, São José Dos Campos\n",
              "2  Kadu bar e creperia     R. Inconfidencia, 298, São José Dos Campos\n",
              "3   Boemia e Rapsodias     Av. Rui Barbosa, 1985, São José Dos Campos"
            ],
            "text/html": [
              "\n",
              "\n",
              "  <div id=\"df-a3928a12-e32c-44d0-83da-b56ba565a615\">\n",
              "    <div class=\"colab-df-container\">\n",
              "      <div>\n",
              "<style scoped>\n",
              "    .dataframe tbody tr th:only-of-type {\n",
              "        vertical-align: middle;\n",
              "    }\n",
              "\n",
              "    .dataframe tbody tr th {\n",
              "        vertical-align: top;\n",
              "    }\n",
              "\n",
              "    .dataframe thead th {\n",
              "        text-align: right;\n",
              "    }\n",
              "</style>\n",
              "<table border=\"1\" class=\"dataframe\">\n",
              "  <thead>\n",
              "    <tr style=\"text-align: right;\">\n",
              "      <th></th>\n",
              "      <th>Bar</th>\n",
              "      <th>Endereço</th>\n",
              "    </tr>\n",
              "  </thead>\n",
              "  <tbody>\n",
              "    <tr>\n",
              "      <th>0</th>\n",
              "      <td>Bar do Coronel</td>\n",
              "      <td>R. Francisco Rafael, 298, São José Dos Campos</td>\n",
              "    </tr>\n",
              "    <tr>\n",
              "      <th>1</th>\n",
              "      <td>Snooker Music Bar</td>\n",
              "      <td>Av Andrômeda 3330, São José Dos Campos</td>\n",
              "    </tr>\n",
              "    <tr>\n",
              "      <th>2</th>\n",
              "      <td>Kadu bar e creperia</td>\n",
              "      <td>R. Inconfidencia, 298, São José Dos Campos</td>\n",
              "    </tr>\n",
              "    <tr>\n",
              "      <th>3</th>\n",
              "      <td>Boemia e Rapsodias</td>\n",
              "      <td>Av. Rui Barbosa, 1985, São José Dos Campos</td>\n",
              "    </tr>\n",
              "  </tbody>\n",
              "</table>\n",
              "</div>\n",
              "      <button class=\"colab-df-convert\" onclick=\"convertToInteractive('df-a3928a12-e32c-44d0-83da-b56ba565a615')\"\n",
              "              title=\"Convert this dataframe to an interactive table.\"\n",
              "              style=\"display:none;\">\n",
              "\n",
              "  <svg xmlns=\"http://www.w3.org/2000/svg\" height=\"24px\"viewBox=\"0 0 24 24\"\n",
              "       width=\"24px\">\n",
              "    <path d=\"M0 0h24v24H0V0z\" fill=\"none\"/>\n",
              "    <path d=\"M18.56 5.44l.94 2.06.94-2.06 2.06-.94-2.06-.94-.94-2.06-.94 2.06-2.06.94zm-11 1L8.5 8.5l.94-2.06 2.06-.94-2.06-.94L8.5 2.5l-.94 2.06-2.06.94zm10 10l.94 2.06.94-2.06 2.06-.94-2.06-.94-.94-2.06-.94 2.06-2.06.94z\"/><path d=\"M17.41 7.96l-1.37-1.37c-.4-.4-.92-.59-1.43-.59-.52 0-1.04.2-1.43.59L10.3 9.45l-7.72 7.72c-.78.78-.78 2.05 0 2.83L4 21.41c.39.39.9.59 1.41.59.51 0 1.02-.2 1.41-.59l7.78-7.78 2.81-2.81c.8-.78.8-2.07 0-2.86zM5.41 20L4 18.59l7.72-7.72 1.47 1.35L5.41 20z\"/>\n",
              "  </svg>\n",
              "      </button>\n",
              "\n",
              "\n",
              "\n",
              "    <div id=\"df-4b438631-43c3-45ff-aef3-23e119f9a910\">\n",
              "      <button class=\"colab-df-quickchart\" onclick=\"quickchart('df-4b438631-43c3-45ff-aef3-23e119f9a910')\"\n",
              "              title=\"Suggest charts.\"\n",
              "              style=\"display:none;\">\n",
              "\n",
              "<svg xmlns=\"http://www.w3.org/2000/svg\" height=\"24px\"viewBox=\"0 0 24 24\"\n",
              "     width=\"24px\">\n",
              "    <g>\n",
              "        <path d=\"M19 3H5c-1.1 0-2 .9-2 2v14c0 1.1.9 2 2 2h14c1.1 0 2-.9 2-2V5c0-1.1-.9-2-2-2zM9 17H7v-7h2v7zm4 0h-2V7h2v10zm4 0h-2v-4h2v4z\"/>\n",
              "    </g>\n",
              "</svg>\n",
              "      </button>\n",
              "    </div>\n",
              "\n",
              "<style>\n",
              "  .colab-df-quickchart {\n",
              "    background-color: #E8F0FE;\n",
              "    border: none;\n",
              "    border-radius: 50%;\n",
              "    cursor: pointer;\n",
              "    display: none;\n",
              "    fill: #1967D2;\n",
              "    height: 32px;\n",
              "    padding: 0 0 0 0;\n",
              "    width: 32px;\n",
              "  }\n",
              "\n",
              "  .colab-df-quickchart:hover {\n",
              "    background-color: #E2EBFA;\n",
              "    box-shadow: 0px 1px 2px rgba(60, 64, 67, 0.3), 0px 1px 3px 1px rgba(60, 64, 67, 0.15);\n",
              "    fill: #174EA6;\n",
              "  }\n",
              "\n",
              "  [theme=dark] .colab-df-quickchart {\n",
              "    background-color: #3B4455;\n",
              "    fill: #D2E3FC;\n",
              "  }\n",
              "\n",
              "  [theme=dark] .colab-df-quickchart:hover {\n",
              "    background-color: #434B5C;\n",
              "    box-shadow: 0px 1px 3px 1px rgba(0, 0, 0, 0.15);\n",
              "    filter: drop-shadow(0px 1px 2px rgba(0, 0, 0, 0.3));\n",
              "    fill: #FFFFFF;\n",
              "  }\n",
              "</style>\n",
              "\n",
              "    <script>\n",
              "      async function quickchart(key) {\n",
              "        const containerElement = document.querySelector('#' + key);\n",
              "        const charts = await google.colab.kernel.invokeFunction(\n",
              "            'suggestCharts', [key], {});\n",
              "      }\n",
              "    </script>\n",
              "\n",
              "      <script>\n",
              "\n",
              "function displayQuickchartButton(domScope) {\n",
              "  let quickchartButtonEl =\n",
              "    domScope.querySelector('#df-4b438631-43c3-45ff-aef3-23e119f9a910 button.colab-df-quickchart');\n",
              "  quickchartButtonEl.style.display =\n",
              "    google.colab.kernel.accessAllowed ? 'block' : 'none';\n",
              "}\n",
              "\n",
              "        displayQuickchartButton(document);\n",
              "      </script>\n",
              "      <style>\n",
              "    .colab-df-container {\n",
              "      display:flex;\n",
              "      flex-wrap:wrap;\n",
              "      gap: 12px;\n",
              "    }\n",
              "\n",
              "    .colab-df-convert {\n",
              "      background-color: #E8F0FE;\n",
              "      border: none;\n",
              "      border-radius: 50%;\n",
              "      cursor: pointer;\n",
              "      display: none;\n",
              "      fill: #1967D2;\n",
              "      height: 32px;\n",
              "      padding: 0 0 0 0;\n",
              "      width: 32px;\n",
              "    }\n",
              "\n",
              "    .colab-df-convert:hover {\n",
              "      background-color: #E2EBFA;\n",
              "      box-shadow: 0px 1px 2px rgba(60, 64, 67, 0.3), 0px 1px 3px 1px rgba(60, 64, 67, 0.15);\n",
              "      fill: #174EA6;\n",
              "    }\n",
              "\n",
              "    [theme=dark] .colab-df-convert {\n",
              "      background-color: #3B4455;\n",
              "      fill: #D2E3FC;\n",
              "    }\n",
              "\n",
              "    [theme=dark] .colab-df-convert:hover {\n",
              "      background-color: #434B5C;\n",
              "      box-shadow: 0px 1px 3px 1px rgba(0, 0, 0, 0.15);\n",
              "      filter: drop-shadow(0px 1px 2px rgba(0, 0, 0, 0.3));\n",
              "      fill: #FFFFFF;\n",
              "    }\n",
              "  </style>\n",
              "\n",
              "      <script>\n",
              "        const buttonEl =\n",
              "          document.querySelector('#df-a3928a12-e32c-44d0-83da-b56ba565a615 button.colab-df-convert');\n",
              "        buttonEl.style.display =\n",
              "          google.colab.kernel.accessAllowed ? 'block' : 'none';\n",
              "\n",
              "        async function convertToInteractive(key) {\n",
              "          const element = document.querySelector('#df-a3928a12-e32c-44d0-83da-b56ba565a615');\n",
              "          const dataTable =\n",
              "            await google.colab.kernel.invokeFunction('convertToInteractive',\n",
              "                                                     [key], {});\n",
              "          if (!dataTable) return;\n",
              "\n",
              "          const docLinkHtml = 'Like what you see? Visit the ' +\n",
              "            '<a target=\"_blank\" href=https://colab.research.google.com/notebooks/data_table.ipynb>data table notebook</a>'\n",
              "            + ' to learn more about interactive tables.';\n",
              "          element.innerHTML = '';\n",
              "          dataTable['output_type'] = 'display_data';\n",
              "          await google.colab.output.renderOutput(dataTable, element);\n",
              "          const docLink = document.createElement('div');\n",
              "          docLink.innerHTML = docLinkHtml;\n",
              "          element.appendChild(docLink);\n",
              "        }\n",
              "      </script>\n",
              "    </div>\n",
              "  </div>\n"
            ]
          },
          "metadata": {},
          "execution_count": 4
        }
      ],
      "source": [
        "# Montar o acesso ao nosso Google drive, assim podemos salvar e acessar dados diretamente de lá\n",
        "from google.colab import drive\n",
        "\n",
        "drive.mount('/content/drive', force_remount=True) # force é para caso seja rodado de novo ele não dê erro\n",
        "#aceitar o acesso ao drive\n",
        "\n",
        "import io #(imput e output, entrada e saída). Para que o python possa manejar arquivos de entrada e saída de diferentes modos\n",
        "import pandas as pd #pandas para manejar arquivos excel ou de tabelas\n",
        "\n",
        "\n",
        "# Ler os dados direto do ambiente do Colab\n",
        "dados=pd.read_csv('/content/drive/MyDrive/Colab Notebooks/PyGEO/Arquivos Aulas/M3/enderecos.txt', sep=';')\n",
        "\n",
        "# Exibir os primeiros registros do dataframe\n",
        "dados.head()\n",
        "\n",
        "################## OU #################\n",
        "# Ler arquivo próprio computador para ao colab\n",
        "'''\n",
        "from google.colab import files\n",
        "\n",
        "uploaded=files.upload() #escolher o arquivo na pasta\n",
        "'''"
      ]
    },
    {
      "cell_type": "markdown",
      "source": [
        "#*Criar uma pasta no drive e salvar arquivos*"
      ],
      "metadata": {
        "id": "MyPFmwqUXDMd"
      }
    },
    {
      "cell_type": "code",
      "source": [
        "# Crie uma nova pasta chamada 'Exercicio_M3' (caso ela ainda não exista) usando a função os.makedirs()\n",
        "import os\n",
        "if not os.path.exists('/content/drive/MyDrive/Colab Notebooks/PyGEO/Arquivos Aulas/M3/Exercicio_M3'):\n",
        "  os.makedirs('/content/drive/MyDrive/Colab Notebooks/PyGEO/Arquivos Aulas/M3/Exercicio_M3')\n",
        "\n",
        "# Exportar o resultado como shapefile\n",
        "gdb.to_file('/content/drive/MyDrive/Colab Notebooks/PyGEO/Arquivos Aulas/M3/Exercicio_M3/bares_sjc.shp')"
      ],
      "metadata": {
        "id": "gj30znPfXII-"
      },
      "execution_count": null,
      "outputs": []
    },
    {
      "cell_type": "markdown",
      "source": [
        "#*Print \"bonito\"*"
      ],
      "metadata": {
        "id": "XrOPvUiP7Dt8"
      }
    },
    {
      "cell_type": "code",
      "source": [
        "x='banana'\n",
        "y='coqueiro'\n",
        "z='tartaruga'\n",
        "w='mexerica'\n",
        "h=99.999999999999\n",
        "\n",
        "print('Eu tenho 2 tatuagens que gosto muito! \\nA primeira que fiz é uma %s que tem o casco de %s.\\nA segunda é uma casca de %s que se torna um %s.\\nEu tenho %s % de certeza que não me arrepnderei delas.'%(z,w,x,y,round(h,2)))\n",
        "\n",
        "# o \\n seria o enter / o %s é um \"place holder\" que pode ser uma variável que deve ser apontada no final"
      ],
      "metadata": {
        "colab": {
          "base_uri": "https://localhost:8080/",
          "height": 252
        },
        "id": "N0nWLQ1V7Hqn",
        "outputId": "4ee6228f-6cc1-46a8-ee50-02a54a5322dc"
      },
      "execution_count": 5,
      "outputs": [
        {
          "output_type": "error",
          "ename": "TypeError",
          "evalue": "ignored",
          "traceback": [
            "\u001b[0;31m---------------------------------------------------------------------------\u001b[0m",
            "\u001b[0;31mTypeError\u001b[0m                                 Traceback (most recent call last)",
            "\u001b[0;32m<ipython-input-5-c65059706d92>\u001b[0m in \u001b[0;36m<cell line: 7>\u001b[0;34m()\u001b[0m\n\u001b[1;32m      5\u001b[0m \u001b[0mh\u001b[0m\u001b[0;34m=\u001b[0m\u001b[0;36m99.999999999999\u001b[0m\u001b[0;34m\u001b[0m\u001b[0;34m\u001b[0m\u001b[0m\n\u001b[1;32m      6\u001b[0m \u001b[0;34m\u001b[0m\u001b[0m\n\u001b[0;32m----> 7\u001b[0;31m \u001b[0mprint\u001b[0m\u001b[0;34m(\u001b[0m\u001b[0;34m'Eu tenho 2 tatuagens que gosto muito! \\nA primeira que fiz é uma %s que tem o casco de %s.\\nA segunda é uma casca de %s que se torna um %s.\\nEu tenho %s % de certeza que não me arrepnderei delas.'\u001b[0m\u001b[0;34m%\u001b[0m\u001b[0;34m(\u001b[0m\u001b[0mz\u001b[0m\u001b[0;34m,\u001b[0m\u001b[0mw\u001b[0m\u001b[0;34m,\u001b[0m\u001b[0mx\u001b[0m\u001b[0;34m,\u001b[0m\u001b[0my\u001b[0m\u001b[0;34m,\u001b[0m\u001b[0mround\u001b[0m\u001b[0;34m(\u001b[0m\u001b[0mh\u001b[0m\u001b[0;34m,\u001b[0m\u001b[0;36m2\u001b[0m\u001b[0;34m)\u001b[0m\u001b[0;34m)\u001b[0m\u001b[0;34m)\u001b[0m\u001b[0;34m\u001b[0m\u001b[0;34m\u001b[0m\u001b[0m\n\u001b[0m\u001b[1;32m      8\u001b[0m \u001b[0;34m\u001b[0m\u001b[0m\n\u001b[1;32m      9\u001b[0m \u001b[0;31m# o \\n seria o enter / o %s é um \"place holder\" que pode ser uma variável que deve ser apontada no final\u001b[0m\u001b[0;34m\u001b[0m\u001b[0;34m\u001b[0m\u001b[0m\n",
            "\u001b[0;31mTypeError\u001b[0m: not enough arguments for format string"
          ]
        }
      ]
    },
    {
      "cell_type": "code",
      "source": [],
      "metadata": {
        "id": "-mMGDmfQ78RC"
      },
      "execution_count": null,
      "outputs": []
    }
  ]
}